{
 "cells": [
  {
   "cell_type": "code",
   "execution_count": 1,
   "metadata": {},
   "outputs": [],
   "source": [
    "import pandas as pd\n",
    "import numpy as np\n",
    "import matplotlib.pyplot as plt\n",
    "import seaborn as sns\n",
    "\n",
    "from sklearn.metrics       import mean_absolute_error, mean_squared_error\n",
    "from sklearn.ensemble      import RandomForestRegressor\n",
    "from sklearn.linear_model  import LinearRegression, Lasso\n",
    "from sklearn.preprocessing import RobustScaler, MinMaxScaler, LabelEncoder\n",
    "import xgboost as xgb\n",
    "import lightgbm as lgbm\n",
    "\n",
    "from sklearn.impute import SimpleImputer\n",
    "\n",
    "from sklearn.metrics import mean_absolute_percentage_error\n",
    "from sklearn.metrics import mean_squared_error\n",
    "from sklearn.metrics import r2_score\n"
   ]
  },
  {
   "cell_type": "code",
   "execution_count": 2,
   "metadata": {},
   "outputs": [],
   "source": [
    "dist = pd.read_csv('DIST.csv')"
   ]
  },
  {
   "cell_type": "code",
   "execution_count": 3,
   "metadata": {},
   "outputs": [
    {
     "data": {
      "text/html": [
       "<div>\n",
       "<style scoped>\n",
       "    .dataframe tbody tr th:only-of-type {\n",
       "        vertical-align: middle;\n",
       "    }\n",
       "\n",
       "    .dataframe tbody tr th {\n",
       "        vertical-align: top;\n",
       "    }\n",
       "\n",
       "    .dataframe thead th {\n",
       "        text-align: right;\n",
       "    }\n",
       "</style>\n",
       "<table border=\"1\" class=\"dataframe\">\n",
       "  <thead>\n",
       "    <tr style=\"text-align: right;\">\n",
       "      <th></th>\n",
       "      <th>id_estacaometeo</th>\n",
       "      <th>id_varmeteo</th>\n",
       "      <th>nom_varmeteo</th>\n",
       "      <th>nom_longo</th>\n",
       "      <th>din_medicao</th>\n",
       "      <th>din_inclusaodl</th>\n",
       "      <th>val_medicao</th>\n",
       "      <th>val_altitude</th>\n",
       "      <th>val_latitude</th>\n",
       "      <th>val_longitude</th>\n",
       "    </tr>\n",
       "  </thead>\n",
       "  <tbody>\n",
       "    <tr>\n",
       "      <th>0</th>\n",
       "      <td>A701</td>\n",
       "      <td>TEM_MAX</td>\n",
       "      <td>TEMPERATURA MÁXIMA NA HORA ANT.</td>\n",
       "      <td>São Paulo - Mirante de Santana</td>\n",
       "      <td>2020-05-23 09:00:00.000</td>\n",
       "      <td>2022-04-20 02:12:20.000</td>\n",
       "      <td>20.6</td>\n",
       "      <td>792.06</td>\n",
       "      <td>-23.496294</td>\n",
       "      <td>-46.620087</td>\n",
       "    </tr>\n",
       "    <tr>\n",
       "      <th>1</th>\n",
       "      <td>A705</td>\n",
       "      <td>TEM_MAX</td>\n",
       "      <td>TEMPERATURA MÁXIMA NA HORA ANT.</td>\n",
       "      <td>Bauru</td>\n",
       "      <td>2020-05-23 09:00:00.000</td>\n",
       "      <td>2022-04-20 02:12:20.000</td>\n",
       "      <td>19.3</td>\n",
       "      <td>550.00</td>\n",
       "      <td>-22.358051</td>\n",
       "      <td>-49.028877</td>\n",
       "    </tr>\n",
       "    <tr>\n",
       "      <th>2</th>\n",
       "      <td>A706</td>\n",
       "      <td>TEM_MAX</td>\n",
       "      <td>TEMPERATURA MÁXIMA NA HORA ANT.</td>\n",
       "      <td>Campos do Jordão</td>\n",
       "      <td>2020-05-23 09:00:00.000</td>\n",
       "      <td>2022-04-20 02:12:20.000</td>\n",
       "      <td>18.3</td>\n",
       "      <td>1580.00</td>\n",
       "      <td>-22.750278</td>\n",
       "      <td>-45.603890</td>\n",
       "    </tr>\n",
       "    <tr>\n",
       "      <th>3</th>\n",
       "      <td>A707</td>\n",
       "      <td>TEM_MAX</td>\n",
       "      <td>TEMPERATURA MÁXIMA NA HORA ANT.</td>\n",
       "      <td>Presidente Prudente</td>\n",
       "      <td>2020-05-23 09:00:00.000</td>\n",
       "      <td>2022-04-20 02:12:20.000</td>\n",
       "      <td>14.5</td>\n",
       "      <td>435.55</td>\n",
       "      <td>-22.119867</td>\n",
       "      <td>-51.408638</td>\n",
       "    </tr>\n",
       "    <tr>\n",
       "      <th>4</th>\n",
       "      <td>A708</td>\n",
       "      <td>TEM_MAX</td>\n",
       "      <td>TEMPERATURA MÁXIMA NA HORA ANT.</td>\n",
       "      <td>Franca</td>\n",
       "      <td>2020-05-23 09:00:00.000</td>\n",
       "      <td>2022-04-20 02:12:20.000</td>\n",
       "      <td>17.3</td>\n",
       "      <td>1003.00</td>\n",
       "      <td>-20.584444</td>\n",
       "      <td>-47.382500</td>\n",
       "    </tr>\n",
       "  </tbody>\n",
       "</table>\n",
       "</div>"
      ],
      "text/plain": [
       "  id_estacaometeo id_varmeteo                     nom_varmeteo  \\\n",
       "0            A701     TEM_MAX  TEMPERATURA MÁXIMA NA HORA ANT.   \n",
       "1            A705     TEM_MAX  TEMPERATURA MÁXIMA NA HORA ANT.   \n",
       "2            A706     TEM_MAX  TEMPERATURA MÁXIMA NA HORA ANT.   \n",
       "3            A707     TEM_MAX  TEMPERATURA MÁXIMA NA HORA ANT.   \n",
       "4            A708     TEM_MAX  TEMPERATURA MÁXIMA NA HORA ANT.   \n",
       "\n",
       "                        nom_longo              din_medicao  \\\n",
       "0  São Paulo - Mirante de Santana  2020-05-23 09:00:00.000   \n",
       "1                           Bauru  2020-05-23 09:00:00.000   \n",
       "2                Campos do Jordão  2020-05-23 09:00:00.000   \n",
       "3             Presidente Prudente  2020-05-23 09:00:00.000   \n",
       "4                          Franca  2020-05-23 09:00:00.000   \n",
       "\n",
       "            din_inclusaodl  val_medicao  val_altitude  val_latitude  \\\n",
       "0  2022-04-20 02:12:20.000         20.6        792.06    -23.496294   \n",
       "1  2022-04-20 02:12:20.000         19.3        550.00    -22.358051   \n",
       "2  2022-04-20 02:12:20.000         18.3       1580.00    -22.750278   \n",
       "3  2022-04-20 02:12:20.000         14.5        435.55    -22.119867   \n",
       "4  2022-04-20 02:12:20.000         17.3       1003.00    -20.584444   \n",
       "\n",
       "   val_longitude  \n",
       "0     -46.620087  \n",
       "1     -49.028877  \n",
       "2     -45.603890  \n",
       "3     -51.408638  \n",
       "4     -47.382500  "
      ]
     },
     "execution_count": 3,
     "metadata": {},
     "output_type": "execute_result"
    }
   ],
   "source": [
    "inmet = pd.read_csv('inmet.csv', sep=';')\n",
    "inmet.head()"
   ]
  },
  {
   "cell_type": "code",
   "execution_count": 4,
   "metadata": {},
   "outputs": [
    {
     "data": {
      "text/plain": [
       "(4941669, 10)"
      ]
     },
     "execution_count": 4,
     "metadata": {},
     "output_type": "execute_result"
    }
   ],
   "source": [
    "inmet.shape"
   ]
  },
  {
   "cell_type": "code",
   "execution_count": 5,
   "metadata": {},
   "outputs": [],
   "source": [
    "cargas = pd.read_csv('seriesCargaSP.csv', sep=';', decimal=',')"
   ]
  },
  {
   "cell_type": "code",
   "execution_count": 6,
   "metadata": {},
   "outputs": [
    {
     "data": {
      "text/plain": [
       "array(['SP-ENERGISA SSE-SP', 'SP-EDP SP', 'SP-CPFL SANTA CRUZ',\n",
       "       'SP-ELETROPAULO', 'SP-CPFL PIRATININGA', 'SP-ELEKTRO',\n",
       "       'SP-CPFL PAULISTA'], dtype=object)"
      ]
     },
     "execution_count": 6,
     "metadata": {},
     "output_type": "execute_result"
    }
   ],
   "source": [
    "cargas.nom_seriehistorica.unique()"
   ]
  },
  {
   "cell_type": "code",
   "execution_count": 7,
   "metadata": {},
   "outputs": [],
   "source": [
    "cargas['nom_seriehistorica'] = cargas['nom_seriehistorica'].apply(lambda x:   390 if x == 'SP-ELETROPAULO' else\n",
    "                                                                              385 if x == 'SP-ELEKTRO' else\n",
    "                                                                              391 if x == 'SP-EDP SP' else\n",
    "                                                                              5216 if x == 'SP-ENERGISA SSE-SP'  else\n",
    "                                                                              63 if x == 'SP-CPFL PAULISTA' else\n",
    "                                                                              2937 if x == 'SP-CPFL PIRATININGA' else\n",
    "                                                                              69 )"
   ]
  },
  {
   "cell_type": "code",
   "execution_count": 8,
   "metadata": {},
   "outputs": [
    {
     "data": {
      "text/plain": [
       "array([5216,  391,   69,  390, 2937,  385,   63], dtype=int64)"
      ]
     },
     "execution_count": 8,
     "metadata": {},
     "output_type": "execute_result"
    }
   ],
   "source": [
    "cargas.nom_seriehistorica.unique()"
   ]
  },
  {
   "cell_type": "code",
   "execution_count": 9,
   "metadata": {},
   "outputs": [],
   "source": [
    "#ENEL, ELEKTRO, EDP, SSE, CPFLpl, CPFLpr, CPFLsc\n",
    "# IdAgente = [390,385,391,5216,63,2937,69]"
   ]
  },
  {
   "cell_type": "code",
   "execution_count": 10,
   "metadata": {},
   "outputs": [
    {
     "data": {
      "text/plain": [
       "array([ 390,  385,  391, 5216,   63, 2937,   69], dtype=int64)"
      ]
     },
     "execution_count": 10,
     "metadata": {},
     "output_type": "execute_result"
    }
   ],
   "source": [
    "dist.DIST.unique()"
   ]
  },
  {
   "cell_type": "code",
   "execution_count": 11,
   "metadata": {},
   "outputs": [
    {
     "data": {
      "text/html": [
       "<div>\n",
       "<style scoped>\n",
       "    .dataframe tbody tr th:only-of-type {\n",
       "        vertical-align: middle;\n",
       "    }\n",
       "\n",
       "    .dataframe tbody tr th {\n",
       "        vertical-align: top;\n",
       "    }\n",
       "\n",
       "    .dataframe thead th {\n",
       "        text-align: right;\n",
       "    }\n",
       "</style>\n",
       "<table border=\"1\" class=\"dataframe\">\n",
       "  <thead>\n",
       "    <tr style=\"text-align: right;\">\n",
       "      <th></th>\n",
       "      <th>Unnamed: 0</th>\n",
       "      <th>Unnamed: 0.1</th>\n",
       "      <th>DIST</th>\n",
       "      <th>CONJ</th>\n",
       "      <th>MUN</th>\n",
       "      <th>CLAS_SUB</th>\n",
       "      <th>CNAE</th>\n",
       "      <th>GRU_TAR</th>\n",
       "      <th>SIT_ATIV</th>\n",
       "      <th>DAT_CON</th>\n",
       "      <th>CAR_INST</th>\n",
       "      <th>geometry</th>\n",
       "    </tr>\n",
       "  </thead>\n",
       "  <tbody>\n",
       "    <tr>\n",
       "      <th>0</th>\n",
       "      <td>0</td>\n",
       "      <td>0.0</td>\n",
       "      <td>390</td>\n",
       "      <td>12826.0</td>\n",
       "      <td>35</td>\n",
       "      <td>RE1</td>\n",
       "      <td>0000-0/00</td>\n",
       "      <td>B1</td>\n",
       "      <td>AT</td>\n",
       "      <td>01/07/1972</td>\n",
       "      <td>0.3</td>\n",
       "      <td>NaN</td>\n",
       "    </tr>\n",
       "    <tr>\n",
       "      <th>1</th>\n",
       "      <td>1</td>\n",
       "      <td>1.0</td>\n",
       "      <td>390</td>\n",
       "      <td>12826.0</td>\n",
       "      <td>35</td>\n",
       "      <td>RE1</td>\n",
       "      <td>0000-0/00</td>\n",
       "      <td>B1</td>\n",
       "      <td>AT</td>\n",
       "      <td>01/06/1967</td>\n",
       "      <td>12.0</td>\n",
       "      <td>NaN</td>\n",
       "    </tr>\n",
       "    <tr>\n",
       "      <th>2</th>\n",
       "      <td>2</td>\n",
       "      <td>2.0</td>\n",
       "      <td>390</td>\n",
       "      <td>12826.0</td>\n",
       "      <td>35</td>\n",
       "      <td>RE1</td>\n",
       "      <td>0000-0/00</td>\n",
       "      <td>B1</td>\n",
       "      <td>AT</td>\n",
       "      <td>01/04/1978</td>\n",
       "      <td>7.0</td>\n",
       "      <td>NaN</td>\n",
       "    </tr>\n",
       "    <tr>\n",
       "      <th>3</th>\n",
       "      <td>3</td>\n",
       "      <td>3.0</td>\n",
       "      <td>390</td>\n",
       "      <td>12826.0</td>\n",
       "      <td>35</td>\n",
       "      <td>RE1</td>\n",
       "      <td>0000-0/00</td>\n",
       "      <td>B1</td>\n",
       "      <td>AT</td>\n",
       "      <td>28/06/2000</td>\n",
       "      <td>9.9</td>\n",
       "      <td>NaN</td>\n",
       "    </tr>\n",
       "    <tr>\n",
       "      <th>4</th>\n",
       "      <td>4</td>\n",
       "      <td>4.0</td>\n",
       "      <td>390</td>\n",
       "      <td>12826.0</td>\n",
       "      <td>35</td>\n",
       "      <td>CO1</td>\n",
       "      <td>8513-9/00</td>\n",
       "      <td>B3</td>\n",
       "      <td>AT</td>\n",
       "      <td>15/12/2007</td>\n",
       "      <td>2.8</td>\n",
       "      <td>NaN</td>\n",
       "    </tr>\n",
       "  </tbody>\n",
       "</table>\n",
       "</div>"
      ],
      "text/plain": [
       "   Unnamed: 0  Unnamed: 0.1  DIST     CONJ  MUN CLAS_SUB       CNAE GRU_TAR  \\\n",
       "0           0           0.0   390  12826.0   35      RE1  0000-0/00      B1   \n",
       "1           1           1.0   390  12826.0   35      RE1  0000-0/00      B1   \n",
       "2           2           2.0   390  12826.0   35      RE1  0000-0/00      B1   \n",
       "3           3           3.0   390  12826.0   35      RE1  0000-0/00      B1   \n",
       "4           4           4.0   390  12826.0   35      CO1  8513-9/00      B3   \n",
       "\n",
       "  SIT_ATIV     DAT_CON  CAR_INST  geometry  \n",
       "0       AT  01/07/1972       0.3       NaN  \n",
       "1       AT  01/06/1967      12.0       NaN  \n",
       "2       AT  01/04/1978       7.0       NaN  \n",
       "3       AT  28/06/2000       9.9       NaN  \n",
       "4       AT  15/12/2007       2.8       NaN  "
      ]
     },
     "execution_count": 11,
     "metadata": {},
     "output_type": "execute_result"
    }
   ],
   "source": [
    "dist.head()"
   ]
  },
  {
   "cell_type": "code",
   "execution_count": 12,
   "metadata": {},
   "outputs": [],
   "source": [
    "dist.drop(columns=['Unnamed: 0', 'Unnamed: 0.1', 'CONJ', 'MUN', 'CLAS_SUB', 'CNAE', 'DAT_CON'], axis=1, inplace=True)"
   ]
  },
  {
   "cell_type": "code",
   "execution_count": 13,
   "metadata": {},
   "outputs": [],
   "source": [
    "dist.drop(columns='geometry', axis=1,inplace=True)"
   ]
  },
  {
   "cell_type": "code",
   "execution_count": 14,
   "metadata": {},
   "outputs": [],
   "source": [
    "dist.drop(columns='GRU_TAR', axis=1,inplace=True)"
   ]
  },
  {
   "cell_type": "code",
   "execution_count": 15,
   "metadata": {},
   "outputs": [
    {
     "data": {
      "text/html": [
       "<div>\n",
       "<style scoped>\n",
       "    .dataframe tbody tr th:only-of-type {\n",
       "        vertical-align: middle;\n",
       "    }\n",
       "\n",
       "    .dataframe tbody tr th {\n",
       "        vertical-align: top;\n",
       "    }\n",
       "\n",
       "    .dataframe thead th {\n",
       "        text-align: right;\n",
       "    }\n",
       "</style>\n",
       "<table border=\"1\" class=\"dataframe\">\n",
       "  <thead>\n",
       "    <tr style=\"text-align: right;\">\n",
       "      <th></th>\n",
       "      <th>DIST</th>\n",
       "      <th>SIT_ATIV</th>\n",
       "      <th>CAR_INST</th>\n",
       "    </tr>\n",
       "  </thead>\n",
       "  <tbody>\n",
       "    <tr>\n",
       "      <th>0</th>\n",
       "      <td>390</td>\n",
       "      <td>AT</td>\n",
       "      <td>0.3</td>\n",
       "    </tr>\n",
       "    <tr>\n",
       "      <th>1</th>\n",
       "      <td>390</td>\n",
       "      <td>AT</td>\n",
       "      <td>12.0</td>\n",
       "    </tr>\n",
       "    <tr>\n",
       "      <th>2</th>\n",
       "      <td>390</td>\n",
       "      <td>AT</td>\n",
       "      <td>7.0</td>\n",
       "    </tr>\n",
       "    <tr>\n",
       "      <th>3</th>\n",
       "      <td>390</td>\n",
       "      <td>AT</td>\n",
       "      <td>9.9</td>\n",
       "    </tr>\n",
       "    <tr>\n",
       "      <th>4</th>\n",
       "      <td>390</td>\n",
       "      <td>AT</td>\n",
       "      <td>2.8</td>\n",
       "    </tr>\n",
       "  </tbody>\n",
       "</table>\n",
       "</div>"
      ],
      "text/plain": [
       "   DIST SIT_ATIV  CAR_INST\n",
       "0   390       AT       0.3\n",
       "1   390       AT      12.0\n",
       "2   390       AT       7.0\n",
       "3   390       AT       9.9\n",
       "4   390       AT       2.8"
      ]
     },
     "execution_count": 15,
     "metadata": {},
     "output_type": "execute_result"
    }
   ],
   "source": [
    "dist.head()"
   ]
  },
  {
   "cell_type": "code",
   "execution_count": 16,
   "metadata": {},
   "outputs": [
    {
     "data": {
      "text/plain": [
       "array(['AT', 'DS', '0'], dtype=object)"
      ]
     },
     "execution_count": 16,
     "metadata": {},
     "output_type": "execute_result"
    }
   ],
   "source": [
    "dist.SIT_ATIV.unique()"
   ]
  },
  {
   "cell_type": "code",
   "execution_count": 17,
   "metadata": {},
   "outputs": [],
   "source": [
    "cargas['id_estacaometeo'] = cargas['nom_seriehistorica'].apply(lambda x: 'A701' if x == 'SP-ELETROPAULO' else\n",
    "                                                                         'A729' if x == 'SP-ELEKTRO' else\n",
    "                                                                         'A728' if x == 'SP-EDP SP' else\n",
    "                                                                         'A707' if x == 'SP-ENERGISA SSE-SP'  else\n",
    "                                                                         'A737' if x == 'SP-CPFL PAULISTA' else\n",
    "                                                                         'A713' if x == 'SP-CPFL PIRATININGA' else\n",
    "                                                                         'A725' )"
   ]
  },
  {
   "cell_type": "code",
   "execution_count": 18,
   "metadata": {},
   "outputs": [
    {
     "data": {
      "text/html": [
       "<div>\n",
       "<style scoped>\n",
       "    .dataframe tbody tr th:only-of-type {\n",
       "        vertical-align: middle;\n",
       "    }\n",
       "\n",
       "    .dataframe tbody tr th {\n",
       "        vertical-align: top;\n",
       "    }\n",
       "\n",
       "    .dataframe thead th {\n",
       "        text-align: right;\n",
       "    }\n",
       "</style>\n",
       "<table border=\"1\" class=\"dataframe\">\n",
       "  <thead>\n",
       "    <tr style=\"text-align: right;\">\n",
       "      <th></th>\n",
       "      <th>nom_seriehistorica</th>\n",
       "      <th>din_ocorrencia</th>\n",
       "      <th>val_itemserieoriginal</th>\n",
       "      <th>id_estacaometeo</th>\n",
       "    </tr>\n",
       "  </thead>\n",
       "  <tbody>\n",
       "    <tr>\n",
       "      <th>0</th>\n",
       "      <td>5216</td>\n",
       "      <td>2018-01-01 00:00:00.000</td>\n",
       "      <td>368.049011</td>\n",
       "      <td>A725</td>\n",
       "    </tr>\n",
       "    <tr>\n",
       "      <th>1</th>\n",
       "      <td>5216</td>\n",
       "      <td>2018-01-01 01:00:00.000</td>\n",
       "      <td>360.519012</td>\n",
       "      <td>A725</td>\n",
       "    </tr>\n",
       "    <tr>\n",
       "      <th>2</th>\n",
       "      <td>5216</td>\n",
       "      <td>2018-01-01 02:00:00.000</td>\n",
       "      <td>350.457001</td>\n",
       "      <td>A725</td>\n",
       "    </tr>\n",
       "  </tbody>\n",
       "</table>\n",
       "</div>"
      ],
      "text/plain": [
       "   nom_seriehistorica           din_ocorrencia  val_itemserieoriginal  \\\n",
       "0                5216  2018-01-01 00:00:00.000             368.049011   \n",
       "1                5216  2018-01-01 01:00:00.000             360.519012   \n",
       "2                5216  2018-01-01 02:00:00.000             350.457001   \n",
       "\n",
       "  id_estacaometeo  \n",
       "0            A725  \n",
       "1            A725  \n",
       "2            A725  "
      ]
     },
     "execution_count": 18,
     "metadata": {},
     "output_type": "execute_result"
    }
   ],
   "source": [
    "cargas.head(3)"
   ]
  },
  {
   "cell_type": "code",
   "execution_count": 19,
   "metadata": {},
   "outputs": [
    {
     "data": {
      "text/html": [
       "<div>\n",
       "<style scoped>\n",
       "    .dataframe tbody tr th:only-of-type {\n",
       "        vertical-align: middle;\n",
       "    }\n",
       "\n",
       "    .dataframe tbody tr th {\n",
       "        vertical-align: top;\n",
       "    }\n",
       "\n",
       "    .dataframe thead th {\n",
       "        text-align: right;\n",
       "    }\n",
       "</style>\n",
       "<table border=\"1\" class=\"dataframe\">\n",
       "  <thead>\n",
       "    <tr style=\"text-align: right;\">\n",
       "      <th></th>\n",
       "      <th>id_estacaometeo</th>\n",
       "      <th>id_varmeteo</th>\n",
       "      <th>nom_varmeteo</th>\n",
       "      <th>nom_longo</th>\n",
       "      <th>din_medicao</th>\n",
       "      <th>din_inclusaodl</th>\n",
       "      <th>val_medicao</th>\n",
       "      <th>val_altitude</th>\n",
       "      <th>val_latitude</th>\n",
       "      <th>val_longitude</th>\n",
       "    </tr>\n",
       "  </thead>\n",
       "  <tbody>\n",
       "    <tr>\n",
       "      <th>0</th>\n",
       "      <td>A701</td>\n",
       "      <td>TEM_MAX</td>\n",
       "      <td>TEMPERATURA MÁXIMA NA HORA ANT.</td>\n",
       "      <td>São Paulo - Mirante de Santana</td>\n",
       "      <td>2020-05-23 09:00:00.000</td>\n",
       "      <td>2022-04-20 02:12:20.000</td>\n",
       "      <td>20.6</td>\n",
       "      <td>792.06</td>\n",
       "      <td>-23.496294</td>\n",
       "      <td>-46.620087</td>\n",
       "    </tr>\n",
       "    <tr>\n",
       "      <th>1</th>\n",
       "      <td>A705</td>\n",
       "      <td>TEM_MAX</td>\n",
       "      <td>TEMPERATURA MÁXIMA NA HORA ANT.</td>\n",
       "      <td>Bauru</td>\n",
       "      <td>2020-05-23 09:00:00.000</td>\n",
       "      <td>2022-04-20 02:12:20.000</td>\n",
       "      <td>19.3</td>\n",
       "      <td>550.00</td>\n",
       "      <td>-22.358051</td>\n",
       "      <td>-49.028877</td>\n",
       "    </tr>\n",
       "    <tr>\n",
       "      <th>2</th>\n",
       "      <td>A706</td>\n",
       "      <td>TEM_MAX</td>\n",
       "      <td>TEMPERATURA MÁXIMA NA HORA ANT.</td>\n",
       "      <td>Campos do Jordão</td>\n",
       "      <td>2020-05-23 09:00:00.000</td>\n",
       "      <td>2022-04-20 02:12:20.000</td>\n",
       "      <td>18.3</td>\n",
       "      <td>1580.00</td>\n",
       "      <td>-22.750278</td>\n",
       "      <td>-45.603890</td>\n",
       "    </tr>\n",
       "  </tbody>\n",
       "</table>\n",
       "</div>"
      ],
      "text/plain": [
       "  id_estacaometeo id_varmeteo                     nom_varmeteo  \\\n",
       "0            A701     TEM_MAX  TEMPERATURA MÁXIMA NA HORA ANT.   \n",
       "1            A705     TEM_MAX  TEMPERATURA MÁXIMA NA HORA ANT.   \n",
       "2            A706     TEM_MAX  TEMPERATURA MÁXIMA NA HORA ANT.   \n",
       "\n",
       "                        nom_longo              din_medicao  \\\n",
       "0  São Paulo - Mirante de Santana  2020-05-23 09:00:00.000   \n",
       "1                           Bauru  2020-05-23 09:00:00.000   \n",
       "2                Campos do Jordão  2020-05-23 09:00:00.000   \n",
       "\n",
       "            din_inclusaodl  val_medicao  val_altitude  val_latitude  \\\n",
       "0  2022-04-20 02:12:20.000         20.6        792.06    -23.496294   \n",
       "1  2022-04-20 02:12:20.000         19.3        550.00    -22.358051   \n",
       "2  2022-04-20 02:12:20.000         18.3       1580.00    -22.750278   \n",
       "\n",
       "   val_longitude  \n",
       "0     -46.620087  \n",
       "1     -49.028877  \n",
       "2     -45.603890  "
      ]
     },
     "execution_count": 19,
     "metadata": {},
     "output_type": "execute_result"
    }
   ],
   "source": [
    "inmet.head(3)"
   ]
  },
  {
   "cell_type": "code",
   "execution_count": 20,
   "metadata": {},
   "outputs": [],
   "source": [
    "inmet['distribuidora'] = inmet['id_estacaometeo'].replace(['A701', 'A729', 'A728', 'A707', 'A737', 'A713', 'A725'], [390, 385, 391, 5216, 63, 2937, 69])"
   ]
  },
  {
   "cell_type": "code",
   "execution_count": 136,
   "metadata": {},
   "outputs": [
    {
     "data": {
      "text/html": [
       "<div>\n",
       "<style scoped>\n",
       "    .dataframe tbody tr th:only-of-type {\n",
       "        vertical-align: middle;\n",
       "    }\n",
       "\n",
       "    .dataframe tbody tr th {\n",
       "        vertical-align: top;\n",
       "    }\n",
       "\n",
       "    .dataframe thead th {\n",
       "        text-align: right;\n",
       "    }\n",
       "</style>\n",
       "<table border=\"1\" class=\"dataframe\">\n",
       "  <thead>\n",
       "    <tr style=\"text-align: right;\">\n",
       "      <th></th>\n",
       "      <th>id_estacaometeo</th>\n",
       "      <th>id_varmeteo</th>\n",
       "      <th>nom_varmeteo</th>\n",
       "      <th>nom_longo</th>\n",
       "      <th>din_medicao</th>\n",
       "      <th>din_inclusaodl</th>\n",
       "      <th>val_medicao</th>\n",
       "      <th>val_altitude</th>\n",
       "      <th>val_latitude</th>\n",
       "      <th>val_longitude</th>\n",
       "      <th>distribuidora</th>\n",
       "    </tr>\n",
       "  </thead>\n",
       "  <tbody>\n",
       "    <tr>\n",
       "      <th>0</th>\n",
       "      <td>A701</td>\n",
       "      <td>TEM_MAX</td>\n",
       "      <td>TEMPERATURA MÁXIMA NA HORA ANT.</td>\n",
       "      <td>São Paulo - Mirante de Santana</td>\n",
       "      <td>2020-05-23 09:00:00.000</td>\n",
       "      <td>2022-04-20 02:12:20.000</td>\n",
       "      <td>20.6</td>\n",
       "      <td>792.06</td>\n",
       "      <td>-23.496294</td>\n",
       "      <td>-46.620087</td>\n",
       "      <td>390</td>\n",
       "    </tr>\n",
       "    <tr>\n",
       "      <th>1</th>\n",
       "      <td>A705</td>\n",
       "      <td>TEM_MAX</td>\n",
       "      <td>TEMPERATURA MÁXIMA NA HORA ANT.</td>\n",
       "      <td>Bauru</td>\n",
       "      <td>2020-05-23 09:00:00.000</td>\n",
       "      <td>2022-04-20 02:12:20.000</td>\n",
       "      <td>19.3</td>\n",
       "      <td>550.00</td>\n",
       "      <td>-22.358051</td>\n",
       "      <td>-49.028877</td>\n",
       "      <td>A705</td>\n",
       "    </tr>\n",
       "    <tr>\n",
       "      <th>2</th>\n",
       "      <td>A706</td>\n",
       "      <td>TEM_MAX</td>\n",
       "      <td>TEMPERATURA MÁXIMA NA HORA ANT.</td>\n",
       "      <td>Campos do Jordão</td>\n",
       "      <td>2020-05-23 09:00:00.000</td>\n",
       "      <td>2022-04-20 02:12:20.000</td>\n",
       "      <td>18.3</td>\n",
       "      <td>1580.00</td>\n",
       "      <td>-22.750278</td>\n",
       "      <td>-45.603890</td>\n",
       "      <td>A706</td>\n",
       "    </tr>\n",
       "    <tr>\n",
       "      <th>3</th>\n",
       "      <td>A707</td>\n",
       "      <td>TEM_MAX</td>\n",
       "      <td>TEMPERATURA MÁXIMA NA HORA ANT.</td>\n",
       "      <td>Presidente Prudente</td>\n",
       "      <td>2020-05-23 09:00:00.000</td>\n",
       "      <td>2022-04-20 02:12:20.000</td>\n",
       "      <td>14.5</td>\n",
       "      <td>435.55</td>\n",
       "      <td>-22.119867</td>\n",
       "      <td>-51.408638</td>\n",
       "      <td>5216</td>\n",
       "    </tr>\n",
       "    <tr>\n",
       "      <th>4</th>\n",
       "      <td>A708</td>\n",
       "      <td>TEM_MAX</td>\n",
       "      <td>TEMPERATURA MÁXIMA NA HORA ANT.</td>\n",
       "      <td>Franca</td>\n",
       "      <td>2020-05-23 09:00:00.000</td>\n",
       "      <td>2022-04-20 02:12:20.000</td>\n",
       "      <td>17.3</td>\n",
       "      <td>1003.00</td>\n",
       "      <td>-20.584444</td>\n",
       "      <td>-47.382500</td>\n",
       "      <td>A708</td>\n",
       "    </tr>\n",
       "  </tbody>\n",
       "</table>\n",
       "</div>"
      ],
      "text/plain": [
       "  id_estacaometeo id_varmeteo                     nom_varmeteo  \\\n",
       "0            A701     TEM_MAX  TEMPERATURA MÁXIMA NA HORA ANT.   \n",
       "1            A705     TEM_MAX  TEMPERATURA MÁXIMA NA HORA ANT.   \n",
       "2            A706     TEM_MAX  TEMPERATURA MÁXIMA NA HORA ANT.   \n",
       "3            A707     TEM_MAX  TEMPERATURA MÁXIMA NA HORA ANT.   \n",
       "4            A708     TEM_MAX  TEMPERATURA MÁXIMA NA HORA ANT.   \n",
       "\n",
       "                        nom_longo              din_medicao  \\\n",
       "0  São Paulo - Mirante de Santana  2020-05-23 09:00:00.000   \n",
       "1                           Bauru  2020-05-23 09:00:00.000   \n",
       "2                Campos do Jordão  2020-05-23 09:00:00.000   \n",
       "3             Presidente Prudente  2020-05-23 09:00:00.000   \n",
       "4                          Franca  2020-05-23 09:00:00.000   \n",
       "\n",
       "            din_inclusaodl  val_medicao  val_altitude  val_latitude  \\\n",
       "0  2022-04-20 02:12:20.000         20.6        792.06    -23.496294   \n",
       "1  2022-04-20 02:12:20.000         19.3        550.00    -22.358051   \n",
       "2  2022-04-20 02:12:20.000         18.3       1580.00    -22.750278   \n",
       "3  2022-04-20 02:12:20.000         14.5        435.55    -22.119867   \n",
       "4  2022-04-20 02:12:20.000         17.3       1003.00    -20.584444   \n",
       "\n",
       "   val_longitude distribuidora  \n",
       "0     -46.620087           390  \n",
       "1     -49.028877          A705  \n",
       "2     -45.603890          A706  \n",
       "3     -51.408638          5216  \n",
       "4     -47.382500          A708  "
      ]
     },
     "execution_count": 136,
     "metadata": {},
     "output_type": "execute_result"
    }
   ],
   "source": [
    "inmet.head()"
   ]
  },
  {
   "cell_type": "code",
   "execution_count": 22,
   "metadata": {},
   "outputs": [
    {
     "data": {
      "text/plain": [
       "' \\nSP ELETRO PAULO = A701     -    390\\nSP ELECTRO      = A729          385\\nSP EDP SP       = A728          391\\nSP ENERGISA     = A707          5216\\nSP CPFL PAUL    = A737          63\\nSP PIRATININGA  = A713          2937\\nSP SANTA CRUZ   = A725          69\\n'"
      ]
     },
     "execution_count": 22,
     "metadata": {},
     "output_type": "execute_result"
    }
   ],
   "source": [
    "''' \n",
    "SP ELETRO PAULO = A701     -    390\n",
    "SP ELECTRO      = A729          385\n",
    "SP EDP SP       = A728          391\n",
    "SP ENERGISA     = A707          5216\n",
    "SP CPFL PAUL    = A737          63\n",
    "SP PIRATININGA  = A713          2937\n",
    "SP SANTA CRUZ   = A725          69\n",
    "'''"
   ]
  },
  {
   "cell_type": "code",
   "execution_count": 24,
   "metadata": {},
   "outputs": [],
   "source": [
    "# carga_temp = pd.merge(inmet, cargas, how='left', on='id_estacaometeo')\n",
    "# print(inmet.shape)\n",
    "# print(cargas.shape)\n"
   ]
  },
  {
   "cell_type": "code",
   "execution_count": 137,
   "metadata": {},
   "outputs": [],
   "source": [
    "aux11 = inmet[(inmet['id_estacaometeo'] == 'A701') | (inmet['id_estacaometeo'] == 'A729') | (inmet['id_estacaometeo'] == 'A728')| (inmet['id_estacaometeo'] == 'A707') | (inmet['id_estacaometeo'] == 'A737') | (inmet['id_estacaometeo'] == 'A713') | (inmet['id_estacaometeo'] == 'A725')].reset_index()"
   ]
  },
  {
   "cell_type": "code",
   "execution_count": 138,
   "metadata": {},
   "outputs": [
    {
     "data": {
      "text/html": [
       "<div>\n",
       "<style scoped>\n",
       "    .dataframe tbody tr th:only-of-type {\n",
       "        vertical-align: middle;\n",
       "    }\n",
       "\n",
       "    .dataframe tbody tr th {\n",
       "        vertical-align: top;\n",
       "    }\n",
       "\n",
       "    .dataframe thead th {\n",
       "        text-align: right;\n",
       "    }\n",
       "</style>\n",
       "<table border=\"1\" class=\"dataframe\">\n",
       "  <thead>\n",
       "    <tr style=\"text-align: right;\">\n",
       "      <th></th>\n",
       "      <th>index</th>\n",
       "      <th>id_estacaometeo</th>\n",
       "      <th>id_varmeteo</th>\n",
       "      <th>nom_varmeteo</th>\n",
       "      <th>nom_longo</th>\n",
       "      <th>din_medicao</th>\n",
       "      <th>din_inclusaodl</th>\n",
       "      <th>val_medicao</th>\n",
       "      <th>val_altitude</th>\n",
       "      <th>val_latitude</th>\n",
       "      <th>val_longitude</th>\n",
       "      <th>distribuidora</th>\n",
       "    </tr>\n",
       "  </thead>\n",
       "  <tbody>\n",
       "    <tr>\n",
       "      <th>0</th>\n",
       "      <td>0</td>\n",
       "      <td>A701</td>\n",
       "      <td>TEM_MAX</td>\n",
       "      <td>TEMPERATURA MÁXIMA NA HORA ANT.</td>\n",
       "      <td>São Paulo - Mirante de Santana</td>\n",
       "      <td>2020-05-23 09:00:00.000</td>\n",
       "      <td>2022-04-20 02:12:20.000</td>\n",
       "      <td>20.6</td>\n",
       "      <td>792.06</td>\n",
       "      <td>-23.496294</td>\n",
       "      <td>-46.620087</td>\n",
       "      <td>390</td>\n",
       "    </tr>\n",
       "    <tr>\n",
       "      <th>1</th>\n",
       "      <td>3</td>\n",
       "      <td>A707</td>\n",
       "      <td>TEM_MAX</td>\n",
       "      <td>TEMPERATURA MÁXIMA NA HORA ANT.</td>\n",
       "      <td>Presidente Prudente</td>\n",
       "      <td>2020-05-23 09:00:00.000</td>\n",
       "      <td>2022-04-20 02:12:20.000</td>\n",
       "      <td>14.5</td>\n",
       "      <td>435.55</td>\n",
       "      <td>-22.119867</td>\n",
       "      <td>-51.408638</td>\n",
       "      <td>5216</td>\n",
       "    </tr>\n",
       "    <tr>\n",
       "      <th>2</th>\n",
       "      <td>7</td>\n",
       "      <td>A713</td>\n",
       "      <td>TEM_MAX</td>\n",
       "      <td>TEMPERATURA MÁXIMA NA HORA ANT.</td>\n",
       "      <td>Sorocaba</td>\n",
       "      <td>2020-05-23 09:00:00.000</td>\n",
       "      <td>2022-04-20 02:12:20.000</td>\n",
       "      <td>NaN</td>\n",
       "      <td>609.00</td>\n",
       "      <td>-23.426111</td>\n",
       "      <td>-47.585556</td>\n",
       "      <td>2937</td>\n",
       "    </tr>\n",
       "    <tr>\n",
       "      <th>3</th>\n",
       "      <td>12</td>\n",
       "      <td>A725</td>\n",
       "      <td>TEM_MAX</td>\n",
       "      <td>TEMPERATURA MÁXIMA NA HORA ANT.</td>\n",
       "      <td>Avare</td>\n",
       "      <td>2020-05-23 09:00:00.000</td>\n",
       "      <td>2022-04-20 02:12:20.000</td>\n",
       "      <td>18.7</td>\n",
       "      <td>725.00</td>\n",
       "      <td>-23.101667</td>\n",
       "      <td>-48.941113</td>\n",
       "      <td>69</td>\n",
       "    </tr>\n",
       "    <tr>\n",
       "      <th>4</th>\n",
       "      <td>15</td>\n",
       "      <td>A728</td>\n",
       "      <td>TEM_MAX</td>\n",
       "      <td>TEMPERATURA MÁXIMA NA HORA ANT.</td>\n",
       "      <td>Taubaté</td>\n",
       "      <td>2020-05-23 09:00:00.000</td>\n",
       "      <td>2022-04-20 02:12:20.000</td>\n",
       "      <td>22.0</td>\n",
       "      <td>571.00</td>\n",
       "      <td>-23.041666</td>\n",
       "      <td>-45.520832</td>\n",
       "      <td>391</td>\n",
       "    </tr>\n",
       "  </tbody>\n",
       "</table>\n",
       "</div>"
      ],
      "text/plain": [
       "   index id_estacaometeo id_varmeteo                     nom_varmeteo  \\\n",
       "0      0            A701     TEM_MAX  TEMPERATURA MÁXIMA NA HORA ANT.   \n",
       "1      3            A707     TEM_MAX  TEMPERATURA MÁXIMA NA HORA ANT.   \n",
       "2      7            A713     TEM_MAX  TEMPERATURA MÁXIMA NA HORA ANT.   \n",
       "3     12            A725     TEM_MAX  TEMPERATURA MÁXIMA NA HORA ANT.   \n",
       "4     15            A728     TEM_MAX  TEMPERATURA MÁXIMA NA HORA ANT.   \n",
       "\n",
       "                        nom_longo              din_medicao  \\\n",
       "0  São Paulo - Mirante de Santana  2020-05-23 09:00:00.000   \n",
       "1             Presidente Prudente  2020-05-23 09:00:00.000   \n",
       "2                        Sorocaba  2020-05-23 09:00:00.000   \n",
       "3                           Avare  2020-05-23 09:00:00.000   \n",
       "4                         Taubaté  2020-05-23 09:00:00.000   \n",
       "\n",
       "            din_inclusaodl  val_medicao  val_altitude  val_latitude  \\\n",
       "0  2022-04-20 02:12:20.000         20.6        792.06    -23.496294   \n",
       "1  2022-04-20 02:12:20.000         14.5        435.55    -22.119867   \n",
       "2  2022-04-20 02:12:20.000          NaN        609.00    -23.426111   \n",
       "3  2022-04-20 02:12:20.000         18.7        725.00    -23.101667   \n",
       "4  2022-04-20 02:12:20.000         22.0        571.00    -23.041666   \n",
       "\n",
       "   val_longitude distribuidora  \n",
       "0     -46.620087           390  \n",
       "1     -51.408638          5216  \n",
       "2     -47.585556          2937  \n",
       "3     -48.941113            69  \n",
       "4     -45.520832           391  "
      ]
     },
     "execution_count": 138,
     "metadata": {},
     "output_type": "execute_result"
    }
   ],
   "source": [
    "aux11.head()"
   ]
  },
  {
   "cell_type": "code",
   "execution_count": 139,
   "metadata": {},
   "outputs": [],
   "source": [
    "train_raw = aux11[aux11['din_medicao'] <= '2022-03-31 23:00:00'].reset_index()"
   ]
  },
  {
   "cell_type": "code",
   "execution_count": 140,
   "metadata": {},
   "outputs": [],
   "source": [
    "teste_raw = aux11[aux11['din_medicao'] > '2022-03-31 23:00:00'].reset_index()"
   ]
  },
  {
   "cell_type": "code",
   "execution_count": 141,
   "metadata": {},
   "outputs": [],
   "source": [
    "train_raw.drop(columns=['level_0', 'index'], inplace=True)\n",
    "teste_raw.drop(columns=['level_0', 'index'], inplace=True)"
   ]
  },
  {
   "cell_type": "code",
   "execution_count": 142,
   "metadata": {},
   "outputs": [
    {
     "name": "stdout",
     "output_type": "stream",
     "text": [
      "(783216, 11)\n",
      "(37065, 11)\n"
     ]
    }
   ],
   "source": [
    "print(train_raw.shape)\n",
    "print(teste_raw.shape)"
   ]
  },
  {
   "cell_type": "code",
   "execution_count": 143,
   "metadata": {},
   "outputs": [],
   "source": [
    "train_ins = train_raw[train_raw['id_varmeteo'] == 'TEM_INS'].reset_index()\n",
    "teste_ins = teste_raw[teste_raw['id_varmeteo'] == 'TEM_INS'].reset_index()"
   ]
  },
  {
   "cell_type": "code",
   "execution_count": 144,
   "metadata": {},
   "outputs": [
    {
     "name": "stdout",
     "output_type": "stream",
     "text": [
      "(261072, 12)\n",
      "(12355, 12)\n"
     ]
    }
   ],
   "source": [
    "print(train_ins.shape)\n",
    "print(teste_ins.shape)"
   ]
  },
  {
   "cell_type": "code",
   "execution_count": 145,
   "metadata": {},
   "outputs": [],
   "source": [
    "train_ins.drop(columns=['index', 'id_varmeteo', 'nom_varmeteo'], axis=1, inplace=True)\n",
    "teste_ins.drop(columns=['index', 'id_varmeteo', 'nom_varmeteo'], axis=1, inplace=True)"
   ]
  },
  {
   "cell_type": "code",
   "execution_count": 34,
   "metadata": {},
   "outputs": [
    {
     "data": {
      "text/html": [
       "<div>\n",
       "<style scoped>\n",
       "    .dataframe tbody tr th:only-of-type {\n",
       "        vertical-align: middle;\n",
       "    }\n",
       "\n",
       "    .dataframe tbody tr th {\n",
       "        vertical-align: top;\n",
       "    }\n",
       "\n",
       "    .dataframe thead th {\n",
       "        text-align: right;\n",
       "    }\n",
       "</style>\n",
       "<table border=\"1\" class=\"dataframe\">\n",
       "  <thead>\n",
       "    <tr style=\"text-align: right;\">\n",
       "      <th></th>\n",
       "      <th>id_estacaometeo</th>\n",
       "      <th>nom_longo</th>\n",
       "      <th>din_medicao</th>\n",
       "      <th>din_inclusaodl</th>\n",
       "      <th>val_medicao</th>\n",
       "      <th>val_altitude</th>\n",
       "      <th>val_latitude</th>\n",
       "      <th>val_longitude</th>\n",
       "      <th>distribuidora</th>\n",
       "    </tr>\n",
       "  </thead>\n",
       "  <tbody>\n",
       "    <tr>\n",
       "      <th>0</th>\n",
       "      <td>A701</td>\n",
       "      <td>São Paulo - Mirante de Santana</td>\n",
       "      <td>2020-06-29 18:00:00.000</td>\n",
       "      <td>2022-04-20 02:50:46.000</td>\n",
       "      <td>17.5</td>\n",
       "      <td>792.06</td>\n",
       "      <td>-23.496294</td>\n",
       "      <td>-46.620087</td>\n",
       "      <td>390</td>\n",
       "    </tr>\n",
       "    <tr>\n",
       "      <th>1</th>\n",
       "      <td>A707</td>\n",
       "      <td>Presidente Prudente</td>\n",
       "      <td>2020-06-29 18:00:00.000</td>\n",
       "      <td>2022-04-20 02:50:46.000</td>\n",
       "      <td>21.6</td>\n",
       "      <td>435.55</td>\n",
       "      <td>-22.119867</td>\n",
       "      <td>-51.408638</td>\n",
       "      <td>5216</td>\n",
       "    </tr>\n",
       "    <tr>\n",
       "      <th>2</th>\n",
       "      <td>A713</td>\n",
       "      <td>Sorocaba</td>\n",
       "      <td>2020-06-29 18:00:00.000</td>\n",
       "      <td>2022-04-20 02:50:46.000</td>\n",
       "      <td>19.1</td>\n",
       "      <td>609.00</td>\n",
       "      <td>-23.426111</td>\n",
       "      <td>-47.585556</td>\n",
       "      <td>2937</td>\n",
       "    </tr>\n",
       "    <tr>\n",
       "      <th>3</th>\n",
       "      <td>A725</td>\n",
       "      <td>Avare</td>\n",
       "      <td>2020-06-29 18:00:00.000</td>\n",
       "      <td>2022-04-20 02:50:46.000</td>\n",
       "      <td>18.4</td>\n",
       "      <td>725.00</td>\n",
       "      <td>-23.101667</td>\n",
       "      <td>-48.941113</td>\n",
       "      <td>69</td>\n",
       "    </tr>\n",
       "    <tr>\n",
       "      <th>4</th>\n",
       "      <td>A728</td>\n",
       "      <td>Taubaté</td>\n",
       "      <td>2020-06-29 18:00:00.000</td>\n",
       "      <td>2022-04-20 02:50:46.000</td>\n",
       "      <td>18.0</td>\n",
       "      <td>571.00</td>\n",
       "      <td>-23.041666</td>\n",
       "      <td>-45.520832</td>\n",
       "      <td>391</td>\n",
       "    </tr>\n",
       "  </tbody>\n",
       "</table>\n",
       "</div>"
      ],
      "text/plain": [
       "  id_estacaometeo                       nom_longo              din_medicao  \\\n",
       "0            A701  São Paulo - Mirante de Santana  2020-06-29 18:00:00.000   \n",
       "1            A707             Presidente Prudente  2020-06-29 18:00:00.000   \n",
       "2            A713                        Sorocaba  2020-06-29 18:00:00.000   \n",
       "3            A725                           Avare  2020-06-29 18:00:00.000   \n",
       "4            A728                         Taubaté  2020-06-29 18:00:00.000   \n",
       "\n",
       "            din_inclusaodl  val_medicao  val_altitude  val_latitude  \\\n",
       "0  2022-04-20 02:50:46.000         17.5        792.06    -23.496294   \n",
       "1  2022-04-20 02:50:46.000         21.6        435.55    -22.119867   \n",
       "2  2022-04-20 02:50:46.000         19.1        609.00    -23.426111   \n",
       "3  2022-04-20 02:50:46.000         18.4        725.00    -23.101667   \n",
       "4  2022-04-20 02:50:46.000         18.0        571.00    -23.041666   \n",
       "\n",
       "   val_longitude distribuidora  \n",
       "0     -46.620087           390  \n",
       "1     -51.408638          5216  \n",
       "2     -47.585556          2937  \n",
       "3     -48.941113            69  \n",
       "4     -45.520832           391  "
      ]
     },
     "execution_count": 34,
     "metadata": {},
     "output_type": "execute_result"
    }
   ],
   "source": [
    "train_ins.head()"
   ]
  },
  {
   "cell_type": "code",
   "execution_count": 35,
   "metadata": {},
   "outputs": [],
   "source": [
    "cargas.rename(columns={'din_ocorrencia': 'data'}, inplace=True)"
   ]
  },
  {
   "cell_type": "code",
   "execution_count": 36,
   "metadata": {},
   "outputs": [],
   "source": [
    "cargas['data'] = pd.to_datetime(cargas['data'])"
   ]
  },
  {
   "cell_type": "code",
   "execution_count": 92,
   "metadata": {},
   "outputs": [],
   "source": [
    "train_ins.rename(columns={'din_medicao': 'data'}, inplace=True)\n",
    "train_ins['data'] = pd.to_datetime(train_ins['data'])\n",
    "\n",
    "train_ins['carga'] = train_ins['distribuidora'].apply(lambda x: 'A701' if x == 'SP-ELETROPAULO' else\n",
    "                                                                         'A729' if x == 'SP-ELEKTRO' else\n",
    "                                                                         'A728' if x == 'SP-EDP SP' else\n",
    "                                                                         'A707' if x == 'SP-ENERGISA SSE-SP'  else\n",
    "                                                                         'A737' if x == 'SP-CPFL PAULISTA' else\n",
    "                                                                         'A713' if x == 'SP-CPFL PIRATININGA' else\n",
    "                                                                         'A725' )"
   ]
  },
  {
   "cell_type": "code",
   "execution_count": 42,
   "metadata": {},
   "outputs": [],
   "source": [
    "cargas.rename(columns={'val_itemserieoriginal': 'carga'}, inplace=True)"
   ]
  },
  {
   "cell_type": "code",
   "execution_count": 44,
   "metadata": {},
   "outputs": [],
   "source": [
    "cargas.rename(columns={'nom_seriehistorica': 'distribuidora'}, inplace=True)"
   ]
  },
  {
   "cell_type": "code",
   "execution_count": 45,
   "metadata": {},
   "outputs": [
    {
     "data": {
      "text/html": [
       "<div>\n",
       "<style scoped>\n",
       "    .dataframe tbody tr th:only-of-type {\n",
       "        vertical-align: middle;\n",
       "    }\n",
       "\n",
       "    .dataframe tbody tr th {\n",
       "        vertical-align: top;\n",
       "    }\n",
       "\n",
       "    .dataframe thead th {\n",
       "        text-align: right;\n",
       "    }\n",
       "</style>\n",
       "<table border=\"1\" class=\"dataframe\">\n",
       "  <thead>\n",
       "    <tr style=\"text-align: right;\">\n",
       "      <th></th>\n",
       "      <th>distribuidora</th>\n",
       "      <th>data</th>\n",
       "      <th>carga</th>\n",
       "      <th>id_estacaometeo</th>\n",
       "    </tr>\n",
       "  </thead>\n",
       "  <tbody>\n",
       "    <tr>\n",
       "      <th>0</th>\n",
       "      <td>5216</td>\n",
       "      <td>2018-01-01 00:00:00</td>\n",
       "      <td>368.049011</td>\n",
       "      <td>A725</td>\n",
       "    </tr>\n",
       "    <tr>\n",
       "      <th>1</th>\n",
       "      <td>5216</td>\n",
       "      <td>2018-01-01 01:00:00</td>\n",
       "      <td>360.519012</td>\n",
       "      <td>A725</td>\n",
       "    </tr>\n",
       "    <tr>\n",
       "      <th>2</th>\n",
       "      <td>5216</td>\n",
       "      <td>2018-01-01 02:00:00</td>\n",
       "      <td>350.457001</td>\n",
       "      <td>A725</td>\n",
       "    </tr>\n",
       "    <tr>\n",
       "      <th>3</th>\n",
       "      <td>5216</td>\n",
       "      <td>2018-01-01 03:00:00</td>\n",
       "      <td>335.697998</td>\n",
       "      <td>A725</td>\n",
       "    </tr>\n",
       "    <tr>\n",
       "      <th>4</th>\n",
       "      <td>5216</td>\n",
       "      <td>2018-01-01 04:00:00</td>\n",
       "      <td>323.063995</td>\n",
       "      <td>A725</td>\n",
       "    </tr>\n",
       "  </tbody>\n",
       "</table>\n",
       "</div>"
      ],
      "text/plain": [
       "   distribuidora                data       carga id_estacaometeo\n",
       "0           5216 2018-01-01 00:00:00  368.049011            A725\n",
       "1           5216 2018-01-01 01:00:00  360.519012            A725\n",
       "2           5216 2018-01-01 02:00:00  350.457001            A725\n",
       "3           5216 2018-01-01 03:00:00  335.697998            A725\n",
       "4           5216 2018-01-01 04:00:00  323.063995            A725"
      ]
     },
     "execution_count": 45,
     "metadata": {},
     "output_type": "execute_result"
    }
   ],
   "source": [
    "cargas.head()"
   ]
  },
  {
   "cell_type": "code",
   "execution_count": 46,
   "metadata": {},
   "outputs": [],
   "source": [
    "carga_temp = pd.merge(train_ins, cargas, how='left', on=['data', 'distribuidora', 'id_estacaometeo'])\n",
    "# cargas.merge(train_ins, how='inner',on='distribuidora')\n",
    "# inmet.merge(cargas, how='left', on='id_estacaometeo')"
   ]
  },
  {
   "cell_type": "code",
   "execution_count": 47,
   "metadata": {},
   "outputs": [
    {
     "name": "stdout",
     "output_type": "stream",
     "text": [
      "(261072, 10)\n",
      "(256776, 4)\n"
     ]
    }
   ],
   "source": [
    "print(train_ins.shape)\n",
    "print(cargas.shape)"
   ]
  },
  {
   "cell_type": "code",
   "execution_count": 48,
   "metadata": {},
   "outputs": [
    {
     "data": {
      "text/html": [
       "<div>\n",
       "<style scoped>\n",
       "    .dataframe tbody tr th:only-of-type {\n",
       "        vertical-align: middle;\n",
       "    }\n",
       "\n",
       "    .dataframe tbody tr th {\n",
       "        vertical-align: top;\n",
       "    }\n",
       "\n",
       "    .dataframe thead th {\n",
       "        text-align: right;\n",
       "    }\n",
       "</style>\n",
       "<table border=\"1\" class=\"dataframe\">\n",
       "  <thead>\n",
       "    <tr style=\"text-align: right;\">\n",
       "      <th></th>\n",
       "      <th>MissValCount</th>\n",
       "    </tr>\n",
       "  </thead>\n",
       "  <tbody>\n",
       "    <tr>\n",
       "      <th>carga_y</th>\n",
       "      <td>223776</td>\n",
       "    </tr>\n",
       "    <tr>\n",
       "      <th>val_medicao</th>\n",
       "      <td>38696</td>\n",
       "    </tr>\n",
       "    <tr>\n",
       "      <th>id_estacaometeo</th>\n",
       "      <td>0</td>\n",
       "    </tr>\n",
       "    <tr>\n",
       "      <th>nom_longo</th>\n",
       "      <td>0</td>\n",
       "    </tr>\n",
       "    <tr>\n",
       "      <th>data</th>\n",
       "      <td>0</td>\n",
       "    </tr>\n",
       "    <tr>\n",
       "      <th>din_inclusaodl</th>\n",
       "      <td>0</td>\n",
       "    </tr>\n",
       "    <tr>\n",
       "      <th>val_altitude</th>\n",
       "      <td>0</td>\n",
       "    </tr>\n",
       "    <tr>\n",
       "      <th>val_latitude</th>\n",
       "      <td>0</td>\n",
       "    </tr>\n",
       "    <tr>\n",
       "      <th>val_longitude</th>\n",
       "      <td>0</td>\n",
       "    </tr>\n",
       "    <tr>\n",
       "      <th>distribuidora</th>\n",
       "      <td>0</td>\n",
       "    </tr>\n",
       "    <tr>\n",
       "      <th>carga_x</th>\n",
       "      <td>0</td>\n",
       "    </tr>\n",
       "  </tbody>\n",
       "</table>\n",
       "</div>"
      ],
      "text/plain": [
       "                 MissValCount\n",
       "carga_y                223776\n",
       "val_medicao             38696\n",
       "id_estacaometeo             0\n",
       "nom_longo                   0\n",
       "data                        0\n",
       "din_inclusaodl              0\n",
       "val_altitude                0\n",
       "val_latitude                0\n",
       "val_longitude               0\n",
       "distribuidora               0\n",
       "carga_x                     0"
      ]
     },
     "execution_count": 48,
     "metadata": {},
     "output_type": "execute_result"
    }
   ],
   "source": [
    "# carga_temp[(carga_temp['data'] == '2018-01-01 00:00:00') & (carga_temp['id_estacaometeo'] == 'A725')]\n",
    "carga_temp.isnull().sum()\n",
    "miss_val = carga_temp.isnull().sum().sort_values(ascending=False)\n",
    "miss_val = pd.DataFrame(data=carga_temp.isnull().sum().sort_values(ascending=False), columns=['MissValCount'])\n",
    "miss_val"
   ]
  },
  {
   "cell_type": "code",
   "execution_count": 49,
   "metadata": {},
   "outputs": [],
   "source": [
    "carga_temp.drop(columns='din_inclusaodl', axis=1, inplace=True)\n",
    "carga_temp.drop(columns='carga_x', axis=1, inplace=True)"
   ]
  },
  {
   "cell_type": "code",
   "execution_count": 55,
   "metadata": {},
   "outputs": [
    {
     "data": {
      "text/html": [
       "<div>\n",
       "<style scoped>\n",
       "    .dataframe tbody tr th:only-of-type {\n",
       "        vertical-align: middle;\n",
       "    }\n",
       "\n",
       "    .dataframe tbody tr th {\n",
       "        vertical-align: top;\n",
       "    }\n",
       "\n",
       "    .dataframe thead th {\n",
       "        text-align: right;\n",
       "    }\n",
       "</style>\n",
       "<table border=\"1\" class=\"dataframe\">\n",
       "  <thead>\n",
       "    <tr style=\"text-align: right;\">\n",
       "      <th></th>\n",
       "      <th>id_estacaometeo</th>\n",
       "      <th>nom_longo</th>\n",
       "      <th>data</th>\n",
       "      <th>val_medicao</th>\n",
       "      <th>val_altitude</th>\n",
       "      <th>val_latitude</th>\n",
       "      <th>val_longitude</th>\n",
       "      <th>distribuidora</th>\n",
       "      <th>carga</th>\n",
       "    </tr>\n",
       "  </thead>\n",
       "  <tbody>\n",
       "    <tr>\n",
       "      <th>0</th>\n",
       "      <td>A701</td>\n",
       "      <td>São Paulo - Mirante de Santana</td>\n",
       "      <td>2020-06-29 18:00:00</td>\n",
       "      <td>17.5</td>\n",
       "      <td>792.06</td>\n",
       "      <td>-23.496294</td>\n",
       "      <td>-46.620087</td>\n",
       "      <td>390</td>\n",
       "      <td>NaN</td>\n",
       "    </tr>\n",
       "    <tr>\n",
       "      <th>1</th>\n",
       "      <td>A707</td>\n",
       "      <td>Presidente Prudente</td>\n",
       "      <td>2020-06-29 18:00:00</td>\n",
       "      <td>21.6</td>\n",
       "      <td>435.55</td>\n",
       "      <td>-22.119867</td>\n",
       "      <td>-51.408638</td>\n",
       "      <td>5216</td>\n",
       "      <td>NaN</td>\n",
       "    </tr>\n",
       "    <tr>\n",
       "      <th>2</th>\n",
       "      <td>A713</td>\n",
       "      <td>Sorocaba</td>\n",
       "      <td>2020-06-29 18:00:00</td>\n",
       "      <td>19.1</td>\n",
       "      <td>609.00</td>\n",
       "      <td>-23.426111</td>\n",
       "      <td>-47.585556</td>\n",
       "      <td>2937</td>\n",
       "      <td>NaN</td>\n",
       "    </tr>\n",
       "    <tr>\n",
       "      <th>3</th>\n",
       "      <td>A725</td>\n",
       "      <td>Avare</td>\n",
       "      <td>2020-06-29 18:00:00</td>\n",
       "      <td>18.4</td>\n",
       "      <td>725.00</td>\n",
       "      <td>-23.101667</td>\n",
       "      <td>-48.941113</td>\n",
       "      <td>69</td>\n",
       "      <td>509.48999</td>\n",
       "    </tr>\n",
       "    <tr>\n",
       "      <th>4</th>\n",
       "      <td>A728</td>\n",
       "      <td>Taubaté</td>\n",
       "      <td>2020-06-29 18:00:00</td>\n",
       "      <td>18.0</td>\n",
       "      <td>571.00</td>\n",
       "      <td>-23.041666</td>\n",
       "      <td>-45.520832</td>\n",
       "      <td>391</td>\n",
       "      <td>NaN</td>\n",
       "    </tr>\n",
       "  </tbody>\n",
       "</table>\n",
       "</div>"
      ],
      "text/plain": [
       "  id_estacaometeo                       nom_longo                data  \\\n",
       "0            A701  São Paulo - Mirante de Santana 2020-06-29 18:00:00   \n",
       "1            A707             Presidente Prudente 2020-06-29 18:00:00   \n",
       "2            A713                        Sorocaba 2020-06-29 18:00:00   \n",
       "3            A725                           Avare 2020-06-29 18:00:00   \n",
       "4            A728                         Taubaté 2020-06-29 18:00:00   \n",
       "\n",
       "   val_medicao  val_altitude  val_latitude  val_longitude distribuidora  \\\n",
       "0         17.5        792.06    -23.496294     -46.620087           390   \n",
       "1         21.6        435.55    -22.119867     -51.408638          5216   \n",
       "2         19.1        609.00    -23.426111     -47.585556          2937   \n",
       "3         18.4        725.00    -23.101667     -48.941113            69   \n",
       "4         18.0        571.00    -23.041666     -45.520832           391   \n",
       "\n",
       "       carga  \n",
       "0        NaN  \n",
       "1        NaN  \n",
       "2        NaN  \n",
       "3  509.48999  \n",
       "4        NaN  "
      ]
     },
     "execution_count": 55,
     "metadata": {},
     "output_type": "execute_result"
    }
   ],
   "source": [
    "carga_temp.rename(columns={'carga_y': 'carga'}, inplace=True)\n",
    "carga_temp.head()"
   ]
  },
  {
   "cell_type": "code",
   "execution_count": 57,
   "metadata": {},
   "outputs": [],
   "source": [
    "carga_temp['year'] = carga_temp['data'].dt.year\n",
    "carga_temp['month'] = carga_temp['data'].dt.month\n",
    "carga_temp['day'] = carga_temp['data'].dt.day\n",
    "carga_temp['hora'] = carga_temp['data'].dt.hour"
   ]
  },
  {
   "cell_type": "code",
   "execution_count": 58,
   "metadata": {},
   "outputs": [],
   "source": [
    "carga_temp.drop(columns='data', axis=1, inplace=True)"
   ]
  },
  {
   "cell_type": "code",
   "execution_count": 59,
   "metadata": {},
   "outputs": [],
   "source": [
    "carga_temp['nom_longo'] = LabelEncoder().fit_transform(carga_temp['nom_longo'].astype(str))"
   ]
  },
  {
   "cell_type": "code",
   "execution_count": 60,
   "metadata": {},
   "outputs": [
    {
     "data": {
      "text/html": [
       "<div>\n",
       "<style scoped>\n",
       "    .dataframe tbody tr th:only-of-type {\n",
       "        vertical-align: middle;\n",
       "    }\n",
       "\n",
       "    .dataframe tbody tr th {\n",
       "        vertical-align: top;\n",
       "    }\n",
       "\n",
       "    .dataframe thead th {\n",
       "        text-align: right;\n",
       "    }\n",
       "</style>\n",
       "<table border=\"1\" class=\"dataframe\">\n",
       "  <thead>\n",
       "    <tr style=\"text-align: right;\">\n",
       "      <th></th>\n",
       "      <th>id_estacaometeo</th>\n",
       "      <th>nom_longo</th>\n",
       "      <th>val_medicao</th>\n",
       "      <th>val_altitude</th>\n",
       "      <th>val_latitude</th>\n",
       "      <th>val_longitude</th>\n",
       "      <th>distribuidora</th>\n",
       "      <th>carga</th>\n",
       "      <th>year</th>\n",
       "      <th>month</th>\n",
       "      <th>day</th>\n",
       "      <th>hora</th>\n",
       "    </tr>\n",
       "  </thead>\n",
       "  <tbody>\n",
       "    <tr>\n",
       "      <th>0</th>\n",
       "      <td>A701</td>\n",
       "      <td>4</td>\n",
       "      <td>17.5</td>\n",
       "      <td>792.06</td>\n",
       "      <td>-23.496294</td>\n",
       "      <td>-46.620087</td>\n",
       "      <td>390</td>\n",
       "      <td>NaN</td>\n",
       "      <td>2020</td>\n",
       "      <td>6</td>\n",
       "      <td>29</td>\n",
       "      <td>18</td>\n",
       "    </tr>\n",
       "    <tr>\n",
       "      <th>1</th>\n",
       "      <td>A707</td>\n",
       "      <td>2</td>\n",
       "      <td>21.6</td>\n",
       "      <td>435.55</td>\n",
       "      <td>-22.119867</td>\n",
       "      <td>-51.408638</td>\n",
       "      <td>5216</td>\n",
       "      <td>NaN</td>\n",
       "      <td>2020</td>\n",
       "      <td>6</td>\n",
       "      <td>29</td>\n",
       "      <td>18</td>\n",
       "    </tr>\n",
       "    <tr>\n",
       "      <th>2</th>\n",
       "      <td>A713</td>\n",
       "      <td>3</td>\n",
       "      <td>19.1</td>\n",
       "      <td>609.00</td>\n",
       "      <td>-23.426111</td>\n",
       "      <td>-47.585556</td>\n",
       "      <td>2937</td>\n",
       "      <td>NaN</td>\n",
       "      <td>2020</td>\n",
       "      <td>6</td>\n",
       "      <td>29</td>\n",
       "      <td>18</td>\n",
       "    </tr>\n",
       "    <tr>\n",
       "      <th>3</th>\n",
       "      <td>A725</td>\n",
       "      <td>0</td>\n",
       "      <td>18.4</td>\n",
       "      <td>725.00</td>\n",
       "      <td>-23.101667</td>\n",
       "      <td>-48.941113</td>\n",
       "      <td>69</td>\n",
       "      <td>509.48999</td>\n",
       "      <td>2020</td>\n",
       "      <td>6</td>\n",
       "      <td>29</td>\n",
       "      <td>18</td>\n",
       "    </tr>\n",
       "    <tr>\n",
       "      <th>4</th>\n",
       "      <td>A728</td>\n",
       "      <td>5</td>\n",
       "      <td>18.0</td>\n",
       "      <td>571.00</td>\n",
       "      <td>-23.041666</td>\n",
       "      <td>-45.520832</td>\n",
       "      <td>391</td>\n",
       "      <td>NaN</td>\n",
       "      <td>2020</td>\n",
       "      <td>6</td>\n",
       "      <td>29</td>\n",
       "      <td>18</td>\n",
       "    </tr>\n",
       "  </tbody>\n",
       "</table>\n",
       "</div>"
      ],
      "text/plain": [
       "  id_estacaometeo  nom_longo  val_medicao  val_altitude  val_latitude  \\\n",
       "0            A701          4         17.5        792.06    -23.496294   \n",
       "1            A707          2         21.6        435.55    -22.119867   \n",
       "2            A713          3         19.1        609.00    -23.426111   \n",
       "3            A725          0         18.4        725.00    -23.101667   \n",
       "4            A728          5         18.0        571.00    -23.041666   \n",
       "\n",
       "   val_longitude distribuidora      carga  year  month  day  hora  \n",
       "0     -46.620087           390        NaN  2020      6   29    18  \n",
       "1     -51.408638          5216        NaN  2020      6   29    18  \n",
       "2     -47.585556          2937        NaN  2020      6   29    18  \n",
       "3     -48.941113            69  509.48999  2020      6   29    18  \n",
       "4     -45.520832           391        NaN  2020      6   29    18  "
      ]
     },
     "execution_count": 60,
     "metadata": {},
     "output_type": "execute_result"
    }
   ],
   "source": [
    "carga_temp.head()"
   ]
  },
  {
   "cell_type": "code",
   "execution_count": 61,
   "metadata": {},
   "outputs": [],
   "source": [
    "carga_temp.distribuidora = carga_temp.distribuidora.astype('int64')"
   ]
  },
  {
   "cell_type": "code",
   "execution_count": 62,
   "metadata": {},
   "outputs": [
    {
     "data": {
      "text/plain": [
       "id_estacaometeo     object\n",
       "nom_longo            int32\n",
       "val_medicao        float64\n",
       "val_altitude       float64\n",
       "val_latitude       float64\n",
       "val_longitude      float64\n",
       "distribuidora        int64\n",
       "carga              float64\n",
       "year                 int64\n",
       "month                int64\n",
       "day                  int64\n",
       "hora                 int64\n",
       "dtype: object"
      ]
     },
     "execution_count": 62,
     "metadata": {},
     "output_type": "execute_result"
    }
   ],
   "source": [
    "carga_temp.dtypes"
   ]
  },
  {
   "cell_type": "code",
   "execution_count": 63,
   "metadata": {},
   "outputs": [],
   "source": [
    "carga_temp.val_medicao.hist()\n",
    "carga_temp.carga.hist()"
   ]
  },
  {
   "cell_type": "code",
   "execution_count": null,
   "metadata": {},
   "outputs": [
    {
     "data": {
      "text/plain": [
       "<AxesSubplot:>"
      ]
     },
     "metadata": {},
     "output_type": "display_data"
    },
    {
     "data": {
      "image/png": "[encoded data removed]",
      "text/plain": [
       "<Figure size 432x288 with 1 Axes>"
      ]
     },
     "metadata": {},
     "output_type": "display_data"
    }
   ],
   "source": [
    "carga_temp.carga.hist()"
   ]
  },
  {
   "cell_type": "markdown",
   "metadata": {},
   "source": [
    "- Aqui foi observado que a curva de \"val_medicao\" seguia uma distribuição normal, então optamos por preencher os valores NA com a média.\n",
    "Foi observado também que, com a adição da \"moda\" dos valores de carga, a curva mantinha sua curva de distribuição."
   ]
  },
  {
   "cell_type": "code",
   "execution_count": 72,
   "metadata": {},
   "outputs": [],
   "source": [
    "# carga_temp.isna().sum()\n",
    "carga_temp['val_medicao'].fillna((carga_temp['val_medicao'].median()), inplace=True)\n",
    "carga_temp['carga'] = carga_temp['carga'].fillna((carga_temp['carga'].mode()))"
   ]
  },
  {
   "cell_type": "code",
   "execution_count": 89,
   "metadata": {},
   "outputs": [],
   "source": []
  },
  {
   "cell_type": "code",
   "execution_count": 90,
   "metadata": {},
   "outputs": [
    {
     "data": {
      "text/html": [
       "<div>\n",
       "<style scoped>\n",
       "    .dataframe tbody tr th:only-of-type {\n",
       "        vertical-align: middle;\n",
       "    }\n",
       "\n",
       "    .dataframe tbody tr th {\n",
       "        vertical-align: top;\n",
       "    }\n",
       "\n",
       "    .dataframe thead th {\n",
       "        text-align: right;\n",
       "    }\n",
       "</style>\n",
       "<table border=\"1\" class=\"dataframe\">\n",
       "  <thead>\n",
       "    <tr style=\"text-align: right;\">\n",
       "      <th></th>\n",
       "      <th>id_estacaometeo</th>\n",
       "      <th>nom_longo</th>\n",
       "      <th>val_medicao</th>\n",
       "      <th>val_altitude</th>\n",
       "      <th>val_latitude</th>\n",
       "      <th>val_longitude</th>\n",
       "      <th>distribuidora</th>\n",
       "      <th>carga</th>\n",
       "      <th>year</th>\n",
       "      <th>month</th>\n",
       "      <th>day</th>\n",
       "      <th>hora</th>\n",
       "    </tr>\n",
       "  </thead>\n",
       "  <tbody>\n",
       "    <tr>\n",
       "      <th>0</th>\n",
       "      <td>A701</td>\n",
       "      <td>4</td>\n",
       "      <td>17.5</td>\n",
       "      <td>792.06</td>\n",
       "      <td>-23.496294</td>\n",
       "      <td>-46.620087</td>\n",
       "      <td>390</td>\n",
       "      <td>384.777008</td>\n",
       "      <td>2020</td>\n",
       "      <td>6</td>\n",
       "      <td>29</td>\n",
       "      <td>18</td>\n",
       "    </tr>\n",
       "    <tr>\n",
       "      <th>1</th>\n",
       "      <td>A707</td>\n",
       "      <td>2</td>\n",
       "      <td>21.6</td>\n",
       "      <td>435.55</td>\n",
       "      <td>-22.119867</td>\n",
       "      <td>-51.408638</td>\n",
       "      <td>5216</td>\n",
       "      <td>402.622009</td>\n",
       "      <td>2020</td>\n",
       "      <td>6</td>\n",
       "      <td>29</td>\n",
       "      <td>18</td>\n",
       "    </tr>\n",
       "    <tr>\n",
       "      <th>2</th>\n",
       "      <td>A713</td>\n",
       "      <td>3</td>\n",
       "      <td>19.1</td>\n",
       "      <td>609.00</td>\n",
       "      <td>-23.426111</td>\n",
       "      <td>-47.585556</td>\n",
       "      <td>2937</td>\n",
       "      <td>NaN</td>\n",
       "      <td>2020</td>\n",
       "      <td>6</td>\n",
       "      <td>29</td>\n",
       "      <td>18</td>\n",
       "    </tr>\n",
       "    <tr>\n",
       "      <th>3</th>\n",
       "      <td>A725</td>\n",
       "      <td>0</td>\n",
       "      <td>18.4</td>\n",
       "      <td>725.00</td>\n",
       "      <td>-23.101667</td>\n",
       "      <td>-48.941113</td>\n",
       "      <td>69</td>\n",
       "      <td>509.489990</td>\n",
       "      <td>2020</td>\n",
       "      <td>6</td>\n",
       "      <td>29</td>\n",
       "      <td>18</td>\n",
       "    </tr>\n",
       "    <tr>\n",
       "      <th>4</th>\n",
       "      <td>A728</td>\n",
       "      <td>5</td>\n",
       "      <td>18.0</td>\n",
       "      <td>571.00</td>\n",
       "      <td>-23.041666</td>\n",
       "      <td>-45.520832</td>\n",
       "      <td>391</td>\n",
       "      <td>NaN</td>\n",
       "      <td>2020</td>\n",
       "      <td>6</td>\n",
       "      <td>29</td>\n",
       "      <td>18</td>\n",
       "    </tr>\n",
       "  </tbody>\n",
       "</table>\n",
       "</div>"
      ],
      "text/plain": [
       "  id_estacaometeo  nom_longo  val_medicao  val_altitude  val_latitude  \\\n",
       "0            A701          4         17.5        792.06    -23.496294   \n",
       "1            A707          2         21.6        435.55    -22.119867   \n",
       "2            A713          3         19.1        609.00    -23.426111   \n",
       "3            A725          0         18.4        725.00    -23.101667   \n",
       "4            A728          5         18.0        571.00    -23.041666   \n",
       "\n",
       "   val_longitude  distribuidora       carga  year  month  day  hora  \n",
       "0     -46.620087            390  384.777008  2020      6   29    18  \n",
       "1     -51.408638           5216  402.622009  2020      6   29    18  \n",
       "2     -47.585556           2937         NaN  2020      6   29    18  \n",
       "3     -48.941113             69  509.489990  2020      6   29    18  \n",
       "4     -45.520832            391         NaN  2020      6   29    18  "
      ]
     },
     "execution_count": 90,
     "metadata": {},
     "output_type": "execute_result"
    }
   ],
   "source": [
    "carga_temp.head()"
   ]
  },
  {
   "cell_type": "code",
   "execution_count": 91,
   "metadata": {},
   "outputs": [
    {
     "data": {
      "text/plain": [
       "id_estacaometeo         0\n",
       "nom_longo               0\n",
       "val_medicao             0\n",
       "val_altitude            0\n",
       "val_latitude            0\n",
       "val_longitude           0\n",
       "distribuidora           0\n",
       "carga              223774\n",
       "year                    0\n",
       "month                   0\n",
       "day                     0\n",
       "hora                    0\n",
       "dtype: int64"
      ]
     },
     "execution_count": 91,
     "metadata": {},
     "output_type": "execute_result"
    }
   ],
   "source": [
    "carga_temp.isna().sum()"
   ]
  },
  {
   "cell_type": "markdown",
   "metadata": {},
   "source": [
    "# ML Modeling"
   ]
  },
  {
   "cell_type": "code",
   "execution_count": 95,
   "metadata": {},
   "outputs": [],
   "source": [
    "from sklearn.metrics import r2_score\n",
    "from sklearn.model_selection import train_test_split, cross_val_score, GridSearchCV\n",
    "from sklearn.model_selection import RandomizedSearchCV\n",
    "\n",
    "from sklearn.ensemble      import RandomForestRegressor\n",
    "from sklearn.linear_model  import LinearRegression, Lasso"
   ]
  },
  {
   "cell_type": "code",
   "execution_count": 96,
   "metadata": {},
   "outputs": [],
   "source": [
    "def mean_absolute_percentage_error(y, yhat):\n",
    "    return np.mean(np.abs((y - yhat) / y))\n",
    "\n",
    "def mean_percentage_error(y, yhat):\n",
    "    return np.mean((y - yhat) / y)\n",
    "\n",
    "def ml_error(model_name, y, yhat):\n",
    "    mae = mean_absolute_error(y, yhat)\n",
    "    mape = mean_absolute_percentage_error(y, yhat)\n",
    "    rmse = np.sqrt(mean_squared_error(y, yhat))\n",
    "    \n",
    "    return pd.DataFrame({   'Model Name': model_name,'MAE': mae,'MAPE': mape,'RMSE': rmse}, index=[0])"
   ]
  },
  {
   "cell_type": "markdown",
   "metadata": {},
   "source": [
    "### Colunas a retirar: 'id_estacaometeo', 'id_varmeteo', 'nom_varmeteo', 'din_inclusaodl'"
   ]
  },
  {
   "cell_type": "code",
   "execution_count": 94,
   "metadata": {},
   "outputs": [],
   "source": [
    "aux1 = carga_temp.copy()"
   ]
  },
  {
   "cell_type": "code",
   "execution_count": 98,
   "metadata": {},
   "outputs": [],
   "source": [
    "aux1.fillna(0, inplace=True)"
   ]
  },
  {
   "cell_type": "code",
   "execution_count": 99,
   "metadata": {},
   "outputs": [
    {
     "data": {
      "text/html": [
       "<div>\n",
       "<style scoped>\n",
       "    .dataframe tbody tr th:only-of-type {\n",
       "        vertical-align: middle;\n",
       "    }\n",
       "\n",
       "    .dataframe tbody tr th {\n",
       "        vertical-align: top;\n",
       "    }\n",
       "\n",
       "    .dataframe thead th {\n",
       "        text-align: right;\n",
       "    }\n",
       "</style>\n",
       "<table border=\"1\" class=\"dataframe\">\n",
       "  <thead>\n",
       "    <tr style=\"text-align: right;\">\n",
       "      <th></th>\n",
       "      <th>id_estacaometeo</th>\n",
       "      <th>nom_longo</th>\n",
       "      <th>val_medicao</th>\n",
       "      <th>val_altitude</th>\n",
       "      <th>val_latitude</th>\n",
       "      <th>val_longitude</th>\n",
       "      <th>distribuidora</th>\n",
       "      <th>carga</th>\n",
       "      <th>year</th>\n",
       "      <th>month</th>\n",
       "      <th>day</th>\n",
       "      <th>hora</th>\n",
       "    </tr>\n",
       "  </thead>\n",
       "  <tbody>\n",
       "    <tr>\n",
       "      <th>0</th>\n",
       "      <td>A701</td>\n",
       "      <td>4</td>\n",
       "      <td>17.5</td>\n",
       "      <td>792.06</td>\n",
       "      <td>-23.496294</td>\n",
       "      <td>-46.620087</td>\n",
       "      <td>390</td>\n",
       "      <td>384.777008</td>\n",
       "      <td>2020</td>\n",
       "      <td>6</td>\n",
       "      <td>29</td>\n",
       "      <td>18</td>\n",
       "    </tr>\n",
       "    <tr>\n",
       "      <th>1</th>\n",
       "      <td>A707</td>\n",
       "      <td>2</td>\n",
       "      <td>21.6</td>\n",
       "      <td>435.55</td>\n",
       "      <td>-22.119867</td>\n",
       "      <td>-51.408638</td>\n",
       "      <td>5216</td>\n",
       "      <td>402.622009</td>\n",
       "      <td>2020</td>\n",
       "      <td>6</td>\n",
       "      <td>29</td>\n",
       "      <td>18</td>\n",
       "    </tr>\n",
       "    <tr>\n",
       "      <th>2</th>\n",
       "      <td>A713</td>\n",
       "      <td>3</td>\n",
       "      <td>19.1</td>\n",
       "      <td>609.00</td>\n",
       "      <td>-23.426111</td>\n",
       "      <td>-47.585556</td>\n",
       "      <td>2937</td>\n",
       "      <td>0.000000</td>\n",
       "      <td>2020</td>\n",
       "      <td>6</td>\n",
       "      <td>29</td>\n",
       "      <td>18</td>\n",
       "    </tr>\n",
       "    <tr>\n",
       "      <th>3</th>\n",
       "      <td>A725</td>\n",
       "      <td>0</td>\n",
       "      <td>18.4</td>\n",
       "      <td>725.00</td>\n",
       "      <td>-23.101667</td>\n",
       "      <td>-48.941113</td>\n",
       "      <td>69</td>\n",
       "      <td>509.489990</td>\n",
       "      <td>2020</td>\n",
       "      <td>6</td>\n",
       "      <td>29</td>\n",
       "      <td>18</td>\n",
       "    </tr>\n",
       "    <tr>\n",
       "      <th>4</th>\n",
       "      <td>A728</td>\n",
       "      <td>5</td>\n",
       "      <td>18.0</td>\n",
       "      <td>571.00</td>\n",
       "      <td>-23.041666</td>\n",
       "      <td>-45.520832</td>\n",
       "      <td>391</td>\n",
       "      <td>0.000000</td>\n",
       "      <td>2020</td>\n",
       "      <td>6</td>\n",
       "      <td>29</td>\n",
       "      <td>18</td>\n",
       "    </tr>\n",
       "  </tbody>\n",
       "</table>\n",
       "</div>"
      ],
      "text/plain": [
       "  id_estacaometeo  nom_longo  val_medicao  val_altitude  val_latitude  \\\n",
       "0            A701          4         17.5        792.06    -23.496294   \n",
       "1            A707          2         21.6        435.55    -22.119867   \n",
       "2            A713          3         19.1        609.00    -23.426111   \n",
       "3            A725          0         18.4        725.00    -23.101667   \n",
       "4            A728          5         18.0        571.00    -23.041666   \n",
       "\n",
       "   val_longitude  distribuidora       carga  year  month  day  hora  \n",
       "0     -46.620087            390  384.777008  2020      6   29    18  \n",
       "1     -51.408638           5216  402.622009  2020      6   29    18  \n",
       "2     -47.585556           2937    0.000000  2020      6   29    18  \n",
       "3     -48.941113             69  509.489990  2020      6   29    18  \n",
       "4     -45.520832            391    0.000000  2020      6   29    18  "
      ]
     },
     "execution_count": 99,
     "metadata": {},
     "output_type": "execute_result"
    }
   ],
   "source": [
    "aux1.head()"
   ]
  },
  {
   "cell_type": "code",
   "execution_count": 101,
   "metadata": {},
   "outputs": [],
   "source": [
    "X = aux1.drop(columns=['id_estacaometeo', 'val_medicao'], axis=1)\n",
    "y = aux1['val_medicao']\n",
    "\n",
    "\n",
    "X_train, X_test, y_train, y_test = train_test_split(X, y, train_size=0.75, random_state=42)"
   ]
  },
  {
   "cell_type": "markdown",
   "metadata": {
    "heading_collapsed": true
   },
   "source": [
    "## Linear Regression Model"
   ]
  },
  {
   "cell_type": "code",
   "execution_count": 103,
   "metadata": {
    "ExecuteTime": {
     "end_time": "2022-06-10T11:33:51.315651Z",
     "start_time": "2022-06-10T11:33:50.885788Z"
    },
    "hidden": true,
    "scrolled": true
   },
   "outputs": [
    {
     "name": "stdout",
     "output_type": "stream",
     "text": [
      "R2 score:  0.16154805043212195\n"
     ]
    },
    {
     "data": {
      "text/html": [
       "<div>\n",
       "<style scoped>\n",
       "    .dataframe tbody tr th:only-of-type {\n",
       "        vertical-align: middle;\n",
       "    }\n",
       "\n",
       "    .dataframe tbody tr th {\n",
       "        vertical-align: top;\n",
       "    }\n",
       "\n",
       "    .dataframe thead th {\n",
       "        text-align: right;\n",
       "    }\n",
       "</style>\n",
       "<table border=\"1\" class=\"dataframe\">\n",
       "  <thead>\n",
       "    <tr style=\"text-align: right;\">\n",
       "      <th></th>\n",
       "      <th>Model Name</th>\n",
       "      <th>MAE</th>\n",
       "      <th>MAPE</th>\n",
       "      <th>RMSE</th>\n",
       "    </tr>\n",
       "  </thead>\n",
       "  <tbody>\n",
       "    <tr>\n",
       "      <th>0</th>\n",
       "      <td>Linear Regression</td>\n",
       "      <td>3.468456</td>\n",
       "      <td>0.175827</td>\n",
       "      <td>4.506671</td>\n",
       "    </tr>\n",
       "  </tbody>\n",
       "</table>\n",
       "</div>"
      ],
      "text/plain": [
       "          Model Name       MAE      MAPE      RMSE\n",
       "0  Linear Regression  3.468456  0.175827  4.506671"
      ]
     },
     "execution_count": 103,
     "metadata": {},
     "output_type": "execute_result"
    }
   ],
   "source": [
    "# model\n",
    "lr = LinearRegression().fit(X_train, y_train)\n",
    "\n",
    "# prediction\n",
    "yhat_lr = lr.predict(X_test)\n",
    "\n",
    "score=lr.score(X, y)\n",
    "print('R2 score: ', score)\n",
    "\n",
    "# performance\n",
    "lr_result = ml_error('Linear Regression', y_test, yhat_lr)\n",
    "lr_result"
   ]
  },
  {
   "cell_type": "markdown",
   "metadata": {
    "heading_collapsed": true
   },
   "source": [
    "## Random Forest Regressor"
   ]
  },
  {
   "cell_type": "code",
   "execution_count": 104,
   "metadata": {
    "ExecuteTime": {
     "end_time": "2022-06-10T11:35:01.162653Z",
     "start_time": "2022-06-10T11:33:54.929735Z"
    },
    "hidden": true,
    "scrolled": true
   },
   "outputs": [
    {
     "name": "stdout",
     "output_type": "stream",
     "text": [
      "R2 score:  0.9616917424339576\n"
     ]
    },
    {
     "data": {
      "text/html": [
       "<div>\n",
       "<style scoped>\n",
       "    .dataframe tbody tr th:only-of-type {\n",
       "        vertical-align: middle;\n",
       "    }\n",
       "\n",
       "    .dataframe tbody tr th {\n",
       "        vertical-align: top;\n",
       "    }\n",
       "\n",
       "    .dataframe thead th {\n",
       "        text-align: right;\n",
       "    }\n",
       "</style>\n",
       "<table border=\"1\" class=\"dataframe\">\n",
       "  <thead>\n",
       "    <tr style=\"text-align: right;\">\n",
       "      <th></th>\n",
       "      <th>Model Name</th>\n",
       "      <th>MAE</th>\n",
       "      <th>MAPE</th>\n",
       "      <th>RMSE</th>\n",
       "    </tr>\n",
       "  </thead>\n",
       "  <tbody>\n",
       "    <tr>\n",
       "      <th>0</th>\n",
       "      <td>Random Forest Regressor</td>\n",
       "      <td>1.02656</td>\n",
       "      <td>0.048452</td>\n",
       "      <td>1.587287</td>\n",
       "    </tr>\n",
       "  </tbody>\n",
       "</table>\n",
       "</div>"
      ],
      "text/plain": [
       "                Model Name      MAE      MAPE      RMSE\n",
       "0  Random Forest Regressor  1.02656  0.048452  1.587287"
      ]
     },
     "execution_count": 104,
     "metadata": {},
     "output_type": "execute_result"
    }
   ],
   "source": [
    "# model\n",
    "rf = RandomForestRegressor(n_estimators=100, n_jobs=-1, random_state=42).fit(X_train, y_train)\n",
    "# prediction\n",
    "yhat_rf = rf.predict(X_test)\n",
    "\n",
    "score=rf.score(X, y)\n",
    "print('R2 score: ', score)\n",
    "\n",
    "# performance\n",
    "rf_result = ml_error('Random Forest Regressor', y_test, yhat_rf)\n",
    "rf_result"
   ]
  },
  {
   "cell_type": "markdown",
   "metadata": {},
   "source": [
    "- Performance do R2 excelente! Vamos verificar as variáveis mais importantes:"
   ]
  },
  {
   "cell_type": "code",
   "execution_count": 108,
   "metadata": {},
   "outputs": [
    {
     "name": "stdout",
     "output_type": "stream",
     "text": [
      "['hora', 'month', 'day', 'val_altitude', 'year', 'val_longitude', 'val_latitude', 'carga', 'distribuidora', 'nom_longo']\n"
     ]
    }
   ],
   "source": [
    "importance = rf.feature_importances_\n",
    "\n",
    "# map feature importance values to the features\n",
    "\n",
    "feature_importances = zip(importance, X.columns)\n",
    "# list(feature_importances_)\n",
    "\n",
    "sorted_featured_importances = sorted(feature_importances, reverse=True)\n",
    "#print(sorted_featuredfeature_importances)\n",
    "\n",
    "top_10_predictors = sorted_featured_importances[0:10]\n",
    "values = [value for value, predictors in top_10_predictors]\n",
    "predictors = [predictors for value, predictors in top_10_predictors]\n",
    "print(predictors)"
   ]
  },
  {
   "cell_type": "code",
   "execution_count": 109,
   "metadata": {},
   "outputs": [
    {
     "data": {
      "image/png": "[encoded data removed]",
      "text/plain": [
       "<Figure size 432x288 with 1 Axes>"
      ]
     },
     "metadata": {
      "needs_background": "light"
     },
     "output_type": "display_data"
    }
   ],
   "source": [
    "# Plotando a feature importance da floresta\n",
    "plt.figure()\n",
    "plt.title(\"Feature importances\")\n",
    "plt.bar(range(len(predictors)), values, color=\"r\", align=\"center\")\n",
    "plt.xticks(range(len(predictors)), predictors, rotation=90)\n",
    "plt.show()"
   ]
  },
  {
   "cell_type": "markdown",
   "metadata": {},
   "source": [
    "## LGBM Regressor"
   ]
  },
  {
   "cell_type": "code",
   "execution_count": 107,
   "metadata": {},
   "outputs": [
    {
     "name": "stdout",
     "output_type": "stream",
     "text": [
      "R2 score:  0.5021288904355667\n"
     ]
    },
    {
     "data": {
      "text/html": [
       "<div>\n",
       "<style scoped>\n",
       "    .dataframe tbody tr th:only-of-type {\n",
       "        vertical-align: middle;\n",
       "    }\n",
       "\n",
       "    .dataframe tbody tr th {\n",
       "        vertical-align: top;\n",
       "    }\n",
       "\n",
       "    .dataframe thead th {\n",
       "        text-align: right;\n",
       "    }\n",
       "</style>\n",
       "<table border=\"1\" class=\"dataframe\">\n",
       "  <thead>\n",
       "    <tr style=\"text-align: right;\">\n",
       "      <th></th>\n",
       "      <th>Model Name</th>\n",
       "      <th>MAE</th>\n",
       "      <th>MAPE</th>\n",
       "      <th>RMSE</th>\n",
       "    </tr>\n",
       "  </thead>\n",
       "  <tbody>\n",
       "    <tr>\n",
       "      <th>0</th>\n",
       "      <td>LGBM Regressor</td>\n",
       "      <td>2.633424</td>\n",
       "      <td>0.134714</td>\n",
       "      <td>3.476608</td>\n",
       "    </tr>\n",
       "  </tbody>\n",
       "</table>\n",
       "</div>"
      ],
      "text/plain": [
       "       Model Name       MAE      MAPE      RMSE\n",
       "0  LGBM Regressor  2.633424  0.134714  3.476608"
      ]
     },
     "execution_count": 107,
     "metadata": {},
     "output_type": "execute_result"
    }
   ],
   "source": [
    "lgbm_model = lgbm.LGBMRegressor(n_estimators=100, learning_rate=0.01, metric='r2')\n",
    "\n",
    "lgbm_model.fit(X_train, y_train)\n",
    "y_pred = lgbm_model.predict(X_test)\n",
    "\n",
    "\n",
    "score=lgbm_model.score(X, y)\n",
    "print('R2 score: ', score)\n",
    "\n",
    "# performance\n",
    "lgbm_result = ml_error('LGBM Regressor', y_test, y_pred)\n",
    "lgbm_result\n"
   ]
  },
  {
   "cell_type": "code",
   "execution_count": 111,
   "metadata": {},
   "outputs": [
    {
     "data": {
      "image/png": "[encoded data removed]",
      "text/plain": [
       "<Figure size 432x288 with 1 Axes>"
      ]
     },
     "metadata": {
      "needs_background": "light"
     },
     "output_type": "display_data"
    }
   ],
   "source": [
    "# Plotando a feature importance da LGBM\n",
    "plt.figure()\n",
    "plt.title(\"Feature importances\")\n",
    "plt.bar(range(len(predictors)), values, color=\"r\", align=\"center\")\n",
    "plt.xticks(range(len(predictors)), predictors, rotation=90)\n",
    "plt.show()"
   ]
  },
  {
   "cell_type": "code",
   "execution_count": 110,
   "metadata": {},
   "outputs": [
    {
     "name": "stdout",
     "output_type": "stream",
     "text": [
      "['month', 'hora', 'val_altitude', 'val_longitude', 'year', 'nom_longo', 'carga', 'distribuidora', 'val_latitude', 'day']\n"
     ]
    }
   ],
   "source": [
    "# lgbm_model.feature_importances_\n",
    "\n",
    "importance = lgbm_model.feature_importances_\n",
    "\n",
    "# map feature importance values to the features\n",
    "\n",
    "feature_importances = zip(importance, X.columns)\n",
    "# list(feature_importances_)\n",
    "\n",
    "sorted_featured_importances = sorted(feature_importances, reverse=True)\n",
    "#print(sorted_featuredfeature_importances)\n",
    "\n",
    "top_10_predictors = sorted_featured_importances[0:10]\n",
    "values = [value for value, predictors in top_10_predictors]\n",
    "predictors = [predictors for value, predictors in top_10_predictors]\n",
    "print(predictors)"
   ]
  },
  {
   "cell_type": "markdown",
   "metadata": {
    "heading_collapsed": true
   },
   "source": [
    "## XGBoost Regressor"
   ]
  },
  {
   "cell_type": "code",
   "execution_count": 114,
   "metadata": {
    "ExecuteTime": {
     "end_time": "2022-06-10T11:39:57.765240Z",
     "start_time": "2022-06-10T11:39:29.022794Z"
    },
    "hidden": true,
    "scrolled": true
   },
   "outputs": [
    {
     "name": "stdout",
     "output_type": "stream",
     "text": [
      "R2 score:  -2.236459960308003\n"
     ]
    },
    {
     "data": {
      "text/html": [
       "<div>\n",
       "<style scoped>\n",
       "    .dataframe tbody tr th:only-of-type {\n",
       "        vertical-align: middle;\n",
       "    }\n",
       "\n",
       "    .dataframe tbody tr th {\n",
       "        vertical-align: top;\n",
       "    }\n",
       "\n",
       "    .dataframe thead th {\n",
       "        text-align: right;\n",
       "    }\n",
       "</style>\n",
       "<table border=\"1\" class=\"dataframe\">\n",
       "  <thead>\n",
       "    <tr style=\"text-align: right;\">\n",
       "      <th></th>\n",
       "      <th>Model Name</th>\n",
       "      <th>MAE</th>\n",
       "      <th>MAPE</th>\n",
       "      <th>RMSE</th>\n",
       "    </tr>\n",
       "  </thead>\n",
       "  <tbody>\n",
       "    <tr>\n",
       "      <th>0</th>\n",
       "      <td>XGBoost Regressor</td>\n",
       "      <td>8.098281</td>\n",
       "      <td>0.348245</td>\n",
       "      <td>8.789234</td>\n",
       "    </tr>\n",
       "  </tbody>\n",
       "</table>\n",
       "</div>"
      ],
      "text/plain": [
       "          Model Name       MAE      MAPE      RMSE\n",
       "0  XGBoost Regressor  8.098281  0.348245  8.789234"
      ]
     },
     "execution_count": 114,
     "metadata": {},
     "output_type": "execute_result"
    }
   ],
   "source": [
    "# model\n",
    "model_xgb = xgb.XGBRegressor(n_estimators=100,\n",
    "                             n_jobs=-1,\n",
    "                             eta=0.01,\n",
    "                             max_depth=5,\n",
    "                             subsample=0.7,\n",
    "                             colsample_bytree=0.9).fit(X_train, y_train)\n",
    "# prediction\n",
    "yhat_xgb = model_xgb.predict(X_test)\n",
    "\n",
    "score=model_xgb.score(X, y)\n",
    "print('R2 score: ', score)\n",
    "\n",
    "# performance\n",
    "xgb_result = ml_error('XGBoost Regressor', y_test, yhat_xgb)\n",
    "xgb_result\n",
    "\n",
    "\n"
   ]
  },
  {
   "cell_type": "code",
   "execution_count": 115,
   "metadata": {},
   "outputs": [
    {
     "name": "stdout",
     "output_type": "stream",
     "text": [
      "['hora', 'val_latitude', 'val_altitude', 'val_longitude', 'month', 'distribuidora', 'carga', 'year', 'nom_longo', 'day']\n"
     ]
    }
   ],
   "source": [
    "importance = model_xgb.feature_importances_\n",
    "\n",
    "# map feature importance values to the features\n",
    "\n",
    "feature_importances = zip(importance, X.columns)\n",
    "# list(feature_importances_)\n",
    "\n",
    "sorted_featured_importances = sorted(feature_importances, reverse=True)\n",
    "#print(sorted_featuredfeature_importances)\n",
    "\n",
    "top_10_predictors = sorted_featured_importances[0:10]\n",
    "values = [value for value, predictors in top_10_predictors]\n",
    "predictors = [predictors for value, predictors in top_10_predictors]\n",
    "print(predictors)"
   ]
  },
  {
   "cell_type": "code",
   "execution_count": 116,
   "metadata": {},
   "outputs": [
    {
     "data": {
      "image/png": "[encoded data removed]",
      "text/plain": [
       "<Figure size 432x288 with 1 Axes>"
      ]
     },
     "metadata": {
      "needs_background": "light"
     },
     "output_type": "display_data"
    }
   ],
   "source": [
    "# Plotando a feature importance da floresta\n",
    "plt.figure()\n",
    "plt.title(\"Feature importances\")\n",
    "plt.bar(range(len(predictors)), values, color=\"r\", align=\"center\")\n",
    "plt.xticks(range(len(predictors)), predictors, rotation=90)\n",
    "plt.show()"
   ]
  },
  {
   "cell_type": "markdown",
   "metadata": {},
   "source": [
    "- Agora, fazendo predição com os dados teste anteriormente separados!"
   ]
  },
  {
   "cell_type": "markdown",
   "metadata": {},
   "source": [
    "## - Preprocessing Test (dados futuros)"
   ]
  },
  {
   "cell_type": "code",
   "execution_count": 146,
   "metadata": {},
   "outputs": [
    {
     "data": {
      "text/html": [
       "<div>\n",
       "<style scoped>\n",
       "    .dataframe tbody tr th:only-of-type {\n",
       "        vertical-align: middle;\n",
       "    }\n",
       "\n",
       "    .dataframe tbody tr th {\n",
       "        vertical-align: top;\n",
       "    }\n",
       "\n",
       "    .dataframe thead th {\n",
       "        text-align: right;\n",
       "    }\n",
       "</style>\n",
       "<table border=\"1\" class=\"dataframe\">\n",
       "  <thead>\n",
       "    <tr style=\"text-align: right;\">\n",
       "      <th></th>\n",
       "      <th>id_estacaometeo</th>\n",
       "      <th>nom_longo</th>\n",
       "      <th>din_medicao</th>\n",
       "      <th>din_inclusaodl</th>\n",
       "      <th>val_medicao</th>\n",
       "      <th>val_altitude</th>\n",
       "      <th>val_latitude</th>\n",
       "      <th>val_longitude</th>\n",
       "      <th>distribuidora</th>\n",
       "    </tr>\n",
       "  </thead>\n",
       "  <tbody>\n",
       "    <tr>\n",
       "      <th>0</th>\n",
       "      <td>A701</td>\n",
       "      <td>São Paulo - Mirante de Santana</td>\n",
       "      <td>2022-05-04 00:00:00.000</td>\n",
       "      <td>2022-05-04 03:03:08.000</td>\n",
       "      <td>20.3</td>\n",
       "      <td>792.06</td>\n",
       "      <td>-23.496294</td>\n",
       "      <td>-46.620087</td>\n",
       "      <td>390</td>\n",
       "    </tr>\n",
       "    <tr>\n",
       "      <th>1</th>\n",
       "      <td>A701</td>\n",
       "      <td>São Paulo - Mirante de Santana</td>\n",
       "      <td>2022-05-04 01:00:00.000</td>\n",
       "      <td>2022-05-04 04:05:03.000</td>\n",
       "      <td>20.0</td>\n",
       "      <td>792.06</td>\n",
       "      <td>-23.496294</td>\n",
       "      <td>-46.620087</td>\n",
       "      <td>390</td>\n",
       "    </tr>\n",
       "    <tr>\n",
       "      <th>2</th>\n",
       "      <td>A701</td>\n",
       "      <td>São Paulo - Mirante de Santana</td>\n",
       "      <td>2022-05-04 02:00:00.000</td>\n",
       "      <td>2022-05-04 05:02:59.000</td>\n",
       "      <td>20.5</td>\n",
       "      <td>792.06</td>\n",
       "      <td>-23.496294</td>\n",
       "      <td>-46.620087</td>\n",
       "      <td>390</td>\n",
       "    </tr>\n",
       "    <tr>\n",
       "      <th>3</th>\n",
       "      <td>A701</td>\n",
       "      <td>São Paulo - Mirante de Santana</td>\n",
       "      <td>2022-05-04 03:00:00.000</td>\n",
       "      <td>2022-05-04 06:03:47.000</td>\n",
       "      <td>22.4</td>\n",
       "      <td>792.06</td>\n",
       "      <td>-23.496294</td>\n",
       "      <td>-46.620087</td>\n",
       "      <td>390</td>\n",
       "    </tr>\n",
       "    <tr>\n",
       "      <th>4</th>\n",
       "      <td>A701</td>\n",
       "      <td>São Paulo - Mirante de Santana</td>\n",
       "      <td>2022-05-04 04:00:00.000</td>\n",
       "      <td>2022-05-04 07:03:09.000</td>\n",
       "      <td>22.0</td>\n",
       "      <td>792.06</td>\n",
       "      <td>-23.496294</td>\n",
       "      <td>-46.620087</td>\n",
       "      <td>390</td>\n",
       "    </tr>\n",
       "  </tbody>\n",
       "</table>\n",
       "</div>"
      ],
      "text/plain": [
       "  id_estacaometeo                       nom_longo              din_medicao  \\\n",
       "0            A701  São Paulo - Mirante de Santana  2022-05-04 00:00:00.000   \n",
       "1            A701  São Paulo - Mirante de Santana  2022-05-04 01:00:00.000   \n",
       "2            A701  São Paulo - Mirante de Santana  2022-05-04 02:00:00.000   \n",
       "3            A701  São Paulo - Mirante de Santana  2022-05-04 03:00:00.000   \n",
       "4            A701  São Paulo - Mirante de Santana  2022-05-04 04:00:00.000   \n",
       "\n",
       "            din_inclusaodl  val_medicao  val_altitude  val_latitude  \\\n",
       "0  2022-05-04 03:03:08.000         20.3        792.06    -23.496294   \n",
       "1  2022-05-04 04:05:03.000         20.0        792.06    -23.496294   \n",
       "2  2022-05-04 05:02:59.000         20.5        792.06    -23.496294   \n",
       "3  2022-05-04 06:03:47.000         22.4        792.06    -23.496294   \n",
       "4  2022-05-04 07:03:09.000         22.0        792.06    -23.496294   \n",
       "\n",
       "   val_longitude distribuidora  \n",
       "0     -46.620087           390  \n",
       "1     -46.620087           390  \n",
       "2     -46.620087           390  \n",
       "3     -46.620087           390  \n",
       "4     -46.620087           390  "
      ]
     },
     "execution_count": 146,
     "metadata": {},
     "output_type": "execute_result"
    }
   ],
   "source": [
    "teste_ins.head()"
   ]
  },
  {
   "cell_type": "code",
   "execution_count": 147,
   "metadata": {},
   "outputs": [],
   "source": [
    "teste_ins.rename(columns={'din_medicao': 'data'}, inplace=True)\n",
    "teste_ins['data'] = pd.to_datetime(teste_ins['data'])\n",
    "\n",
    "teste_ins['carga'] = teste_ins['distribuidora'].apply(lambda x: 'A701' if x == 'SP-ELETROPAULO' else\n",
    "                                                                         'A729' if x == 'SP-ELEKTRO' else\n",
    "                                                                         'A728' if x == 'SP-EDP SP' else\n",
    "                                                                         'A707' if x == 'SP-ENERGISA SSE-SP'  else\n",
    "                                                                         'A737' if x == 'SP-CPFL PAULISTA' else\n",
    "                                                                         'A713' if x == 'SP-CPFL PIRATININGA' else\n",
    "                                                                         'A725' )"
   ]
  },
  {
   "cell_type": "code",
   "execution_count": 148,
   "metadata": {},
   "outputs": [
    {
     "data": {
      "text/html": [
       "<div>\n",
       "<style scoped>\n",
       "    .dataframe tbody tr th:only-of-type {\n",
       "        vertical-align: middle;\n",
       "    }\n",
       "\n",
       "    .dataframe tbody tr th {\n",
       "        vertical-align: top;\n",
       "    }\n",
       "\n",
       "    .dataframe thead th {\n",
       "        text-align: right;\n",
       "    }\n",
       "</style>\n",
       "<table border=\"1\" class=\"dataframe\">\n",
       "  <thead>\n",
       "    <tr style=\"text-align: right;\">\n",
       "      <th></th>\n",
       "      <th>id_estacaometeo</th>\n",
       "      <th>nom_longo</th>\n",
       "      <th>data</th>\n",
       "      <th>din_inclusaodl</th>\n",
       "      <th>val_medicao</th>\n",
       "      <th>val_altitude</th>\n",
       "      <th>val_latitude</th>\n",
       "      <th>val_longitude</th>\n",
       "      <th>distribuidora</th>\n",
       "      <th>carga</th>\n",
       "    </tr>\n",
       "  </thead>\n",
       "  <tbody>\n",
       "    <tr>\n",
       "      <th>0</th>\n",
       "      <td>A701</td>\n",
       "      <td>São Paulo - Mirante de Santana</td>\n",
       "      <td>2022-05-04 00:00:00</td>\n",
       "      <td>2022-05-04 03:03:08.000</td>\n",
       "      <td>20.3</td>\n",
       "      <td>792.06</td>\n",
       "      <td>-23.496294</td>\n",
       "      <td>-46.620087</td>\n",
       "      <td>390</td>\n",
       "      <td>A725</td>\n",
       "    </tr>\n",
       "    <tr>\n",
       "      <th>1</th>\n",
       "      <td>A701</td>\n",
       "      <td>São Paulo - Mirante de Santana</td>\n",
       "      <td>2022-05-04 01:00:00</td>\n",
       "      <td>2022-05-04 04:05:03.000</td>\n",
       "      <td>20.0</td>\n",
       "      <td>792.06</td>\n",
       "      <td>-23.496294</td>\n",
       "      <td>-46.620087</td>\n",
       "      <td>390</td>\n",
       "      <td>A725</td>\n",
       "    </tr>\n",
       "    <tr>\n",
       "      <th>2</th>\n",
       "      <td>A701</td>\n",
       "      <td>São Paulo - Mirante de Santana</td>\n",
       "      <td>2022-05-04 02:00:00</td>\n",
       "      <td>2022-05-04 05:02:59.000</td>\n",
       "      <td>20.5</td>\n",
       "      <td>792.06</td>\n",
       "      <td>-23.496294</td>\n",
       "      <td>-46.620087</td>\n",
       "      <td>390</td>\n",
       "      <td>A725</td>\n",
       "    </tr>\n",
       "    <tr>\n",
       "      <th>3</th>\n",
       "      <td>A701</td>\n",
       "      <td>São Paulo - Mirante de Santana</td>\n",
       "      <td>2022-05-04 03:00:00</td>\n",
       "      <td>2022-05-04 06:03:47.000</td>\n",
       "      <td>22.4</td>\n",
       "      <td>792.06</td>\n",
       "      <td>-23.496294</td>\n",
       "      <td>-46.620087</td>\n",
       "      <td>390</td>\n",
       "      <td>A725</td>\n",
       "    </tr>\n",
       "    <tr>\n",
       "      <th>4</th>\n",
       "      <td>A701</td>\n",
       "      <td>São Paulo - Mirante de Santana</td>\n",
       "      <td>2022-05-04 04:00:00</td>\n",
       "      <td>2022-05-04 07:03:09.000</td>\n",
       "      <td>22.0</td>\n",
       "      <td>792.06</td>\n",
       "      <td>-23.496294</td>\n",
       "      <td>-46.620087</td>\n",
       "      <td>390</td>\n",
       "      <td>A725</td>\n",
       "    </tr>\n",
       "  </tbody>\n",
       "</table>\n",
       "</div>"
      ],
      "text/plain": [
       "  id_estacaometeo                       nom_longo                data  \\\n",
       "0            A701  São Paulo - Mirante de Santana 2022-05-04 00:00:00   \n",
       "1            A701  São Paulo - Mirante de Santana 2022-05-04 01:00:00   \n",
       "2            A701  São Paulo - Mirante de Santana 2022-05-04 02:00:00   \n",
       "3            A701  São Paulo - Mirante de Santana 2022-05-04 03:00:00   \n",
       "4            A701  São Paulo - Mirante de Santana 2022-05-04 04:00:00   \n",
       "\n",
       "            din_inclusaodl  val_medicao  val_altitude  val_latitude  \\\n",
       "0  2022-05-04 03:03:08.000         20.3        792.06    -23.496294   \n",
       "1  2022-05-04 04:05:03.000         20.0        792.06    -23.496294   \n",
       "2  2022-05-04 05:02:59.000         20.5        792.06    -23.496294   \n",
       "3  2022-05-04 06:03:47.000         22.4        792.06    -23.496294   \n",
       "4  2022-05-04 07:03:09.000         22.0        792.06    -23.496294   \n",
       "\n",
       "   val_longitude distribuidora carga  \n",
       "0     -46.620087           390  A725  \n",
       "1     -46.620087           390  A725  \n",
       "2     -46.620087           390  A725  \n",
       "3     -46.620087           390  A725  \n",
       "4     -46.620087           390  A725  "
      ]
     },
     "execution_count": 148,
     "metadata": {},
     "output_type": "execute_result"
    }
   ],
   "source": [
    "teste_ins.head()"
   ]
  },
  {
   "cell_type": "code",
   "execution_count": 149,
   "metadata": {},
   "outputs": [],
   "source": [
    "carga_teste = pd.merge(teste_ins, cargas, how='left', on=['data', 'distribuidora', 'id_estacaometeo'])"
   ]
  },
  {
   "cell_type": "code",
   "execution_count": 150,
   "metadata": {},
   "outputs": [
    {
     "data": {
      "text/html": [
       "<div>\n",
       "<style scoped>\n",
       "    .dataframe tbody tr th:only-of-type {\n",
       "        vertical-align: middle;\n",
       "    }\n",
       "\n",
       "    .dataframe tbody tr th {\n",
       "        vertical-align: top;\n",
       "    }\n",
       "\n",
       "    .dataframe thead th {\n",
       "        text-align: right;\n",
       "    }\n",
       "</style>\n",
       "<table border=\"1\" class=\"dataframe\">\n",
       "  <thead>\n",
       "    <tr style=\"text-align: right;\">\n",
       "      <th></th>\n",
       "      <th>id_estacaometeo</th>\n",
       "      <th>nom_longo</th>\n",
       "      <th>data</th>\n",
       "      <th>din_inclusaodl</th>\n",
       "      <th>val_medicao</th>\n",
       "      <th>val_altitude</th>\n",
       "      <th>val_latitude</th>\n",
       "      <th>val_longitude</th>\n",
       "      <th>distribuidora</th>\n",
       "      <th>carga_x</th>\n",
       "      <th>carga_y</th>\n",
       "    </tr>\n",
       "  </thead>\n",
       "  <tbody>\n",
       "    <tr>\n",
       "      <th>0</th>\n",
       "      <td>A701</td>\n",
       "      <td>São Paulo - Mirante de Santana</td>\n",
       "      <td>2022-05-04 00:00:00</td>\n",
       "      <td>2022-05-04 03:03:08.000</td>\n",
       "      <td>20.3</td>\n",
       "      <td>792.06</td>\n",
       "      <td>-23.496294</td>\n",
       "      <td>-46.620087</td>\n",
       "      <td>390</td>\n",
       "      <td>A725</td>\n",
       "      <td>NaN</td>\n",
       "    </tr>\n",
       "    <tr>\n",
       "      <th>1</th>\n",
       "      <td>A701</td>\n",
       "      <td>São Paulo - Mirante de Santana</td>\n",
       "      <td>2022-05-04 01:00:00</td>\n",
       "      <td>2022-05-04 04:05:03.000</td>\n",
       "      <td>20.0</td>\n",
       "      <td>792.06</td>\n",
       "      <td>-23.496294</td>\n",
       "      <td>-46.620087</td>\n",
       "      <td>390</td>\n",
       "      <td>A725</td>\n",
       "      <td>NaN</td>\n",
       "    </tr>\n",
       "    <tr>\n",
       "      <th>2</th>\n",
       "      <td>A701</td>\n",
       "      <td>São Paulo - Mirante de Santana</td>\n",
       "      <td>2022-05-04 02:00:00</td>\n",
       "      <td>2022-05-04 05:02:59.000</td>\n",
       "      <td>20.5</td>\n",
       "      <td>792.06</td>\n",
       "      <td>-23.496294</td>\n",
       "      <td>-46.620087</td>\n",
       "      <td>390</td>\n",
       "      <td>A725</td>\n",
       "      <td>NaN</td>\n",
       "    </tr>\n",
       "    <tr>\n",
       "      <th>3</th>\n",
       "      <td>A701</td>\n",
       "      <td>São Paulo - Mirante de Santana</td>\n",
       "      <td>2022-05-04 03:00:00</td>\n",
       "      <td>2022-05-04 06:03:47.000</td>\n",
       "      <td>22.4</td>\n",
       "      <td>792.06</td>\n",
       "      <td>-23.496294</td>\n",
       "      <td>-46.620087</td>\n",
       "      <td>390</td>\n",
       "      <td>A725</td>\n",
       "      <td>NaN</td>\n",
       "    </tr>\n",
       "    <tr>\n",
       "      <th>4</th>\n",
       "      <td>A701</td>\n",
       "      <td>São Paulo - Mirante de Santana</td>\n",
       "      <td>2022-05-04 04:00:00</td>\n",
       "      <td>2022-05-04 07:03:09.000</td>\n",
       "      <td>22.0</td>\n",
       "      <td>792.06</td>\n",
       "      <td>-23.496294</td>\n",
       "      <td>-46.620087</td>\n",
       "      <td>390</td>\n",
       "      <td>A725</td>\n",
       "      <td>NaN</td>\n",
       "    </tr>\n",
       "  </tbody>\n",
       "</table>\n",
       "</div>"
      ],
      "text/plain": [
       "  id_estacaometeo                       nom_longo                data  \\\n",
       "0            A701  São Paulo - Mirante de Santana 2022-05-04 00:00:00   \n",
       "1            A701  São Paulo - Mirante de Santana 2022-05-04 01:00:00   \n",
       "2            A701  São Paulo - Mirante de Santana 2022-05-04 02:00:00   \n",
       "3            A701  São Paulo - Mirante de Santana 2022-05-04 03:00:00   \n",
       "4            A701  São Paulo - Mirante de Santana 2022-05-04 04:00:00   \n",
       "\n",
       "            din_inclusaodl  val_medicao  val_altitude  val_latitude  \\\n",
       "0  2022-05-04 03:03:08.000         20.3        792.06    -23.496294   \n",
       "1  2022-05-04 04:05:03.000         20.0        792.06    -23.496294   \n",
       "2  2022-05-04 05:02:59.000         20.5        792.06    -23.496294   \n",
       "3  2022-05-04 06:03:47.000         22.4        792.06    -23.496294   \n",
       "4  2022-05-04 07:03:09.000         22.0        792.06    -23.496294   \n",
       "\n",
       "   val_longitude distribuidora carga_x  carga_y  \n",
       "0     -46.620087           390    A725      NaN  \n",
       "1     -46.620087           390    A725      NaN  \n",
       "2     -46.620087           390    A725      NaN  \n",
       "3     -46.620087           390    A725      NaN  \n",
       "4     -46.620087           390    A725      NaN  "
      ]
     },
     "execution_count": 150,
     "metadata": {},
     "output_type": "execute_result"
    }
   ],
   "source": [
    "carga_teste.head()"
   ]
  },
  {
   "cell_type": "code",
   "execution_count": 151,
   "metadata": {},
   "outputs": [],
   "source": [
    "carga_teste.drop(columns='din_inclusaodl', axis=1, inplace=True)\n",
    "carga_teste.drop(columns='carga_x', axis=1, inplace=True)\n",
    "carga_teste['year'] = carga_teste['data'].dt.year\n",
    "carga_teste['month'] = carga_teste['data'].dt.month\n",
    "carga_teste['day'] = carga_teste['data'].dt.day\n",
    "carga_teste['hora'] = carga_teste['data'].dt.hour\n",
    "carga_teste.drop(columns='data', axis=1, inplace=True)\n",
    "carga_teste['nom_longo'] = LabelEncoder().fit_transform(carga_teste['nom_longo'].astype(str))\n",
    "carga_teste.distribuidora = carga_teste.distribuidora.astype('int64')\n"
   ]
  },
  {
   "cell_type": "code",
   "execution_count": 154,
   "metadata": {},
   "outputs": [
    {
     "data": {
      "text/plain": [
       "id_estacaometeo        0\n",
       "nom_longo              0\n",
       "val_medicao         3904\n",
       "val_altitude           0\n",
       "val_latitude           0\n",
       "val_longitude          0\n",
       "distribuidora          0\n",
       "carga_y            12354\n",
       "year                   0\n",
       "month                  0\n",
       "day                    0\n",
       "hora                   0\n",
       "dtype: int64"
      ]
     },
     "execution_count": 154,
     "metadata": {},
     "output_type": "execute_result"
    }
   ],
   "source": [
    "carga_teste.isna().sum()"
   ]
  },
  {
   "cell_type": "code",
   "execution_count": 158,
   "metadata": {},
   "outputs": [],
   "source": [
    "carga_teste.rename(columns={'carga_y':'carga'}, inplace=True)"
   ]
  },
  {
   "cell_type": "code",
   "execution_count": 160,
   "metadata": {},
   "outputs": [],
   "source": [
    "\n",
    "\n",
    "carga_teste['val_medicao'].fillna((carga_teste['val_medicao'].median()), inplace=True)\n",
    "carga_teste['carga'] = carga_teste['carga'].fillna((carga_teste['carga'].mode()))"
   ]
  },
  {
   "cell_type": "code",
   "execution_count": 162,
   "metadata": {},
   "outputs": [
    {
     "data": {
      "text/html": [
       "<div>\n",
       "<style scoped>\n",
       "    .dataframe tbody tr th:only-of-type {\n",
       "        vertical-align: middle;\n",
       "    }\n",
       "\n",
       "    .dataframe tbody tr th {\n",
       "        vertical-align: top;\n",
       "    }\n",
       "\n",
       "    .dataframe thead th {\n",
       "        text-align: right;\n",
       "    }\n",
       "</style>\n",
       "<table border=\"1\" class=\"dataframe\">\n",
       "  <thead>\n",
       "    <tr style=\"text-align: right;\">\n",
       "      <th></th>\n",
       "      <th>id_estacaometeo</th>\n",
       "      <th>nom_longo</th>\n",
       "      <th>val_medicao</th>\n",
       "      <th>val_altitude</th>\n",
       "      <th>val_latitude</th>\n",
       "      <th>val_longitude</th>\n",
       "      <th>distribuidora</th>\n",
       "      <th>carga</th>\n",
       "      <th>year</th>\n",
       "      <th>month</th>\n",
       "      <th>day</th>\n",
       "      <th>hora</th>\n",
       "    </tr>\n",
       "  </thead>\n",
       "  <tbody>\n",
       "    <tr>\n",
       "      <th>0</th>\n",
       "      <td>A701</td>\n",
       "      <td>4</td>\n",
       "      <td>20.3</td>\n",
       "      <td>792.06</td>\n",
       "      <td>-23.496294</td>\n",
       "      <td>-46.620087</td>\n",
       "      <td>390</td>\n",
       "      <td>360.43399</td>\n",
       "      <td>2022</td>\n",
       "      <td>5</td>\n",
       "      <td>4</td>\n",
       "      <td>0</td>\n",
       "    </tr>\n",
       "    <tr>\n",
       "      <th>1</th>\n",
       "      <td>A701</td>\n",
       "      <td>4</td>\n",
       "      <td>20.0</td>\n",
       "      <td>792.06</td>\n",
       "      <td>-23.496294</td>\n",
       "      <td>-46.620087</td>\n",
       "      <td>390</td>\n",
       "      <td>0.00000</td>\n",
       "      <td>2022</td>\n",
       "      <td>5</td>\n",
       "      <td>4</td>\n",
       "      <td>1</td>\n",
       "    </tr>\n",
       "    <tr>\n",
       "      <th>2</th>\n",
       "      <td>A701</td>\n",
       "      <td>4</td>\n",
       "      <td>20.5</td>\n",
       "      <td>792.06</td>\n",
       "      <td>-23.496294</td>\n",
       "      <td>-46.620087</td>\n",
       "      <td>390</td>\n",
       "      <td>0.00000</td>\n",
       "      <td>2022</td>\n",
       "      <td>5</td>\n",
       "      <td>4</td>\n",
       "      <td>2</td>\n",
       "    </tr>\n",
       "    <tr>\n",
       "      <th>3</th>\n",
       "      <td>A701</td>\n",
       "      <td>4</td>\n",
       "      <td>22.4</td>\n",
       "      <td>792.06</td>\n",
       "      <td>-23.496294</td>\n",
       "      <td>-46.620087</td>\n",
       "      <td>390</td>\n",
       "      <td>0.00000</td>\n",
       "      <td>2022</td>\n",
       "      <td>5</td>\n",
       "      <td>4</td>\n",
       "      <td>3</td>\n",
       "    </tr>\n",
       "    <tr>\n",
       "      <th>4</th>\n",
       "      <td>A701</td>\n",
       "      <td>4</td>\n",
       "      <td>22.0</td>\n",
       "      <td>792.06</td>\n",
       "      <td>-23.496294</td>\n",
       "      <td>-46.620087</td>\n",
       "      <td>390</td>\n",
       "      <td>0.00000</td>\n",
       "      <td>2022</td>\n",
       "      <td>5</td>\n",
       "      <td>4</td>\n",
       "      <td>4</td>\n",
       "    </tr>\n",
       "  </tbody>\n",
       "</table>\n",
       "</div>"
      ],
      "text/plain": [
       "  id_estacaometeo  nom_longo  val_medicao  val_altitude  val_latitude  \\\n",
       "0            A701          4         20.3        792.06    -23.496294   \n",
       "1            A701          4         20.0        792.06    -23.496294   \n",
       "2            A701          4         20.5        792.06    -23.496294   \n",
       "3            A701          4         22.4        792.06    -23.496294   \n",
       "4            A701          4         22.0        792.06    -23.496294   \n",
       "\n",
       "   val_longitude  distribuidora      carga  year  month  day  hora  \n",
       "0     -46.620087            390  360.43399  2022      5    4     0  \n",
       "1     -46.620087            390    0.00000  2022      5    4     1  \n",
       "2     -46.620087            390    0.00000  2022      5    4     2  \n",
       "3     -46.620087            390    0.00000  2022      5    4     3  \n",
       "4     -46.620087            390    0.00000  2022      5    4     4  "
      ]
     },
     "execution_count": 162,
     "metadata": {},
     "output_type": "execute_result"
    }
   ],
   "source": [
    "carga_teste.fillna(0, inplace=True)\n",
    "carga_teste.head()"
   ]
  },
  {
   "cell_type": "code",
   "execution_count": 163,
   "metadata": {},
   "outputs": [],
   "source": [
    "Xtestex = carga_teste.drop(columns=['id_estacaometeo', 'val_medicao'], axis=1)"
   ]
  },
  {
   "cell_type": "code",
   "execution_count": 164,
   "metadata": {},
   "outputs": [
    {
     "data": {
      "text/html": [
       "<div>\n",
       "<style scoped>\n",
       "    .dataframe tbody tr th:only-of-type {\n",
       "        vertical-align: middle;\n",
       "    }\n",
       "\n",
       "    .dataframe tbody tr th {\n",
       "        vertical-align: top;\n",
       "    }\n",
       "\n",
       "    .dataframe thead th {\n",
       "        text-align: right;\n",
       "    }\n",
       "</style>\n",
       "<table border=\"1\" class=\"dataframe\">\n",
       "  <thead>\n",
       "    <tr style=\"text-align: right;\">\n",
       "      <th></th>\n",
       "      <th>nom_longo</th>\n",
       "      <th>val_altitude</th>\n",
       "      <th>val_latitude</th>\n",
       "      <th>val_longitude</th>\n",
       "      <th>distribuidora</th>\n",
       "      <th>carga</th>\n",
       "      <th>year</th>\n",
       "      <th>month</th>\n",
       "      <th>day</th>\n",
       "      <th>hora</th>\n",
       "    </tr>\n",
       "  </thead>\n",
       "  <tbody>\n",
       "    <tr>\n",
       "      <th>0</th>\n",
       "      <td>4</td>\n",
       "      <td>792.06</td>\n",
       "      <td>-23.496294</td>\n",
       "      <td>-46.620087</td>\n",
       "      <td>390</td>\n",
       "      <td>360.43399</td>\n",
       "      <td>2022</td>\n",
       "      <td>5</td>\n",
       "      <td>4</td>\n",
       "      <td>0</td>\n",
       "    </tr>\n",
       "    <tr>\n",
       "      <th>1</th>\n",
       "      <td>4</td>\n",
       "      <td>792.06</td>\n",
       "      <td>-23.496294</td>\n",
       "      <td>-46.620087</td>\n",
       "      <td>390</td>\n",
       "      <td>0.00000</td>\n",
       "      <td>2022</td>\n",
       "      <td>5</td>\n",
       "      <td>4</td>\n",
       "      <td>1</td>\n",
       "    </tr>\n",
       "    <tr>\n",
       "      <th>2</th>\n",
       "      <td>4</td>\n",
       "      <td>792.06</td>\n",
       "      <td>-23.496294</td>\n",
       "      <td>-46.620087</td>\n",
       "      <td>390</td>\n",
       "      <td>0.00000</td>\n",
       "      <td>2022</td>\n",
       "      <td>5</td>\n",
       "      <td>4</td>\n",
       "      <td>2</td>\n",
       "    </tr>\n",
       "    <tr>\n",
       "      <th>3</th>\n",
       "      <td>4</td>\n",
       "      <td>792.06</td>\n",
       "      <td>-23.496294</td>\n",
       "      <td>-46.620087</td>\n",
       "      <td>390</td>\n",
       "      <td>0.00000</td>\n",
       "      <td>2022</td>\n",
       "      <td>5</td>\n",
       "      <td>4</td>\n",
       "      <td>3</td>\n",
       "    </tr>\n",
       "    <tr>\n",
       "      <th>4</th>\n",
       "      <td>4</td>\n",
       "      <td>792.06</td>\n",
       "      <td>-23.496294</td>\n",
       "      <td>-46.620087</td>\n",
       "      <td>390</td>\n",
       "      <td>0.00000</td>\n",
       "      <td>2022</td>\n",
       "      <td>5</td>\n",
       "      <td>4</td>\n",
       "      <td>4</td>\n",
       "    </tr>\n",
       "  </tbody>\n",
       "</table>\n",
       "</div>"
      ],
      "text/plain": [
       "   nom_longo  val_altitude  val_latitude  val_longitude  distribuidora  \\\n",
       "0          4        792.06    -23.496294     -46.620087            390   \n",
       "1          4        792.06    -23.496294     -46.620087            390   \n",
       "2          4        792.06    -23.496294     -46.620087            390   \n",
       "3          4        792.06    -23.496294     -46.620087            390   \n",
       "4          4        792.06    -23.496294     -46.620087            390   \n",
       "\n",
       "       carga  year  month  day  hora  \n",
       "0  360.43399  2022      5    4     0  \n",
       "1    0.00000  2022      5    4     1  \n",
       "2    0.00000  2022      5    4     2  \n",
       "3    0.00000  2022      5    4     3  \n",
       "4    0.00000  2022      5    4     4  "
      ]
     },
     "execution_count": 164,
     "metadata": {},
     "output_type": "execute_result"
    }
   ],
   "source": [
    "Xtestex.head()"
   ]
  },
  {
   "cell_type": "markdown",
   "metadata": {},
   "source": [
    "## Predição pros dados futuros"
   ]
  },
  {
   "cell_type": "code",
   "execution_count": 165,
   "metadata": {},
   "outputs": [
    {
     "name": "stdout",
     "output_type": "stream",
     "text": [
      "Linear Regression R2 score:  0.1615589281544052\n"
     ]
    }
   ],
   "source": [
    "lr = LinearRegression().fit(X, y)\n",
    "yhat_lr = lr.predict(Xtestex)\n",
    "score=lr.score(X, y)\n",
    "print('Linear Regression R2 score: ', score)"
   ]
  },
  {
   "cell_type": "code",
   "execution_count": 166,
   "metadata": {},
   "outputs": [
    {
     "name": "stdout",
     "output_type": "stream",
     "text": [
      "Random Forest R2 score:  0.9866835560349775\n"
     ]
    }
   ],
   "source": [
    "rf = RandomForestRegressor(n_estimators=100, n_jobs=-1, random_state=42).fit(X, y)\n",
    "# prediction\n",
    "yhat_rf = rf.predict(Xtestex)\n",
    "\n",
    "score=rf.score(X, y)\n",
    "print('Random Forest R2 score:', score)"
   ]
  },
  {
   "cell_type": "code",
   "execution_count": 168,
   "metadata": {},
   "outputs": [
    {
     "name": "stdout",
     "output_type": "stream",
     "text": [
      "LGBM R2 score:  0.5028725235565468\n"
     ]
    }
   ],
   "source": [
    "##################################################\n",
    "lgbm_model.fit(X, y) \n",
    "predictions = lgbm_model.predict(Xtestex)\n",
    "score = lgbm_model.score(X, y)\n",
    "print('LGBM R2 score: ', score)"
   ]
  },
  {
   "cell_type": "code",
   "execution_count": 169,
   "metadata": {},
   "outputs": [
    {
     "name": "stdout",
     "output_type": "stream",
     "text": [
      "XGB R2 score:  -2.238123367746634\n"
     ]
    }
   ],
   "source": [
    "##################################################\n",
    "model_xgb = xgb.XGBRegressor(n_estimators=100,\n",
    "                             n_jobs=-1,\n",
    "                             eta=0.01,\n",
    "                             max_depth=5,\n",
    "                             subsample=0.7,\n",
    "                             colsample_bytree=0.9).fit(X, y)\n",
    "yhat_xgb = model_xgb.predict(Xtestex)\n",
    "score=model_xgb.score(X, y)\n",
    "print('XGB R2 score: ', score)"
   ]
  },
  {
   "cell_type": "markdown",
   "metadata": {},
   "source": [
    "Optamos pelo modelo de Random Forest para realizar as previsões."
   ]
  },
  {
   "cell_type": "code",
   "execution_count": 172,
   "metadata": {},
   "outputs": [
    {
     "name": "stdout",
     "output_type": "stream",
     "text": [
      "['hora', 'month', 'day', 'val_latitude', 'year', 'val_altitude', 'val_longitude', 'carga', 'distribuidora', 'nom_longo']\n"
     ]
    }
   ],
   "source": [
    "importance = rf.feature_importances_\n",
    "\n",
    "# map feature importance values to the features\n",
    "\n",
    "feature_importances = zip(importance, X.columns)\n",
    "# list(feature_importances_)\n",
    "\n",
    "sorted_featured_importances = sorted(feature_importances, reverse=True)\n",
    "#print(sorted_featuredfeature_importances)\n",
    "\n",
    "top_10_predictors = sorted_featured_importances[0:10]\n",
    "values = [value for value, predictors in top_10_predictors]\n",
    "predictors = [predictors for value, predictors in top_10_predictors]\n",
    "print(predictors)"
   ]
  },
  {
   "cell_type": "code",
   "execution_count": 173,
   "metadata": {},
   "outputs": [
    {
     "data": {
      "image/png": "[encoded data removed]",
      "text/plain": [
       "<Figure size 432x288 with 1 Axes>"
      ]
     },
     "metadata": {
      "needs_background": "light"
     },
     "output_type": "display_data"
    }
   ],
   "source": [
    "# Plotando a feature importance da floresta\n",
    "plt.figure()\n",
    "plt.title(\"Feature importances\")\n",
    "plt.bar(range(len(predictors)), values, color=\"r\", align=\"center\")\n",
    "plt.xticks(range(len(predictors)), predictors, rotation=90)\n",
    "plt.show()"
   ]
  }
 ],
 "metadata": {
  "kernelspec": {
   "display_name": "Python 3.10.0 64-bit",
   "language": "python",
   "name": "python3"
  },
  "language_info": {
   "codemirror_mode": {
    "name": "ipython",
    "version": 3
   },
   "file_extension": ".py",
   "mimetype": "text/x-python",
   "name": "python",
   "nbconvert_exporter": "python",
   "pygments_lexer": "ipython3",
   "version": "3.10.0"
  },
  "orig_nbformat": 4,
  "vscode": {
   "interpreter": {
    "hash": "6ffb5a8cb255dca10b143b6b78baf7a5251a04b82d220620aeaa79dd01f0be4a"
   }
  }
 },
 "nbformat": 4,
 "nbformat_minor": 2
}
